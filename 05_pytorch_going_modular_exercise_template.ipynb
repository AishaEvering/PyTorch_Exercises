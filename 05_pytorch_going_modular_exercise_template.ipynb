{
  "nbformat": 4,
  "nbformat_minor": 0,
  "metadata": {
    "colab": {
      "provenance": [],
      "include_colab_link": true
    },
    "kernelspec": {
      "name": "python3",
      "display_name": "Python 3"
    },
    "language_info": {
      "name": "python"
    },
    "accelerator": "GPU"
  },
  "cells": [
    {
      "cell_type": "markdown",
      "metadata": {
        "id": "view-in-github",
        "colab_type": "text"
      },
      "source": [
        "<a href=\"https://colab.research.google.com/github/AishaEvering/PyTorch_Exercises/blob/main/05_pytorch_going_modular_exercise_template.ipynb\" target=\"_parent\"><img src=\"https://colab.research.google.com/assets/colab-badge.svg\" alt=\"Open In Colab\"/></a>"
      ]
    },
    {
      "cell_type": "markdown",
      "source": [
        "# 05. PyTorch Going Modular Exercises\n",
        "\n",
        "Welcome to the 05. PyTorch Going Modular exercise template notebook.\n",
        "\n",
        "There are several questions in this notebook and it's your goal to answer them by writing Python and PyTorch code.\n",
        "\n",
        "> **Note:** There may be more than one solution to each of the exercises, don't worry too much about the *exact* right answer. Try to write some code that works first and then improve it if you can.\n",
        "\n",
        "## Resources and solutions\n",
        "\n",
        "* These exercises/solutions are based on [section 05. PyTorch Going Modular](https://www.learnpytorch.io/05_pytorch_going_modular/) of the Learn PyTorch for Deep Learning course by Zero to Mastery.\n",
        "\n",
        "**Solutions:**\n",
        "\n",
        "Try to complete the code below *before* looking at these.\n",
        "\n",
        "* See a live [walkthrough of the solutions (errors and all) on YouTube](https://youtu.be/ijgFhMK3pp4).\n",
        "* See an example [solutions notebook for these exercises on GitHub](https://github.com/mrdbourke/pytorch-deep-learning/blob/main/extras/solutions/05_pytorch_going_modular_exercise_solutions.ipynb)."
      ],
      "metadata": {
        "id": "zNqPNlYylluR"
      }
    },
    {
      "cell_type": "markdown",
      "source": [
        "## 1. Turn the code to get the data (from section 1. Get Data) into a Python script, such as `get_data.py`.\n",
        "\n",
        "* When you run the script using `python get_data.py` it should check if the data already exists and skip downloading if it does.\n",
        "* If the data download is successful, you should be able to access the `pizza_steak_sushi` images from the `data` directory."
      ],
      "metadata": {
        "id": "bicbWSrPmfTU"
      }
    },
    {
      "cell_type": "code",
      "source": [
        "%%writefile get_data.py\n",
        "\"\"\"\n",
        "Downloads data given a path, upzips and saves it to disk.\n",
        "\"\"\"\n",
        "import os\n",
        "import zipfile\n",
        "import requests\n",
        "import argparse\n",
        "\n",
        "parser = argparse.ArgumentParser(prog=\"GetData\",\n",
        "                                 description=\"Downloads data given a path, upzips and saves it to disk.\")\n",
        "parser.add_argument('--data_path', dest=\"data_path\", help=\"Path where the data will be saved.\")\n",
        "parser.add_argument('--data_name', dest=\"data_name\", help=\"Name of the data.\")\n",
        "parser.add_argument('--src_url', dest=\"src_url\", help=\"URL to source data.\")\n",
        "\n",
        "args = parser.parse_args()\n",
        "\n",
        "DEFAULT_NAME = \"pizza_steak_sushi\"\n",
        "DEFAULT_SRC_URL = \"https://github.com/mrdbourke/pytorch-deep-learning/raw/main/data/pizza_steak_sushi.zip\"\n",
        "\n",
        "# Setup path to data folder\n",
        "data_path = args.data_path if args.data_path else \"data/\"\n",
        "image_path = os.path.join(data_path, args.data_name if args.data_name else DEFAULT_NAME)\n",
        "\n",
        "# If the image folder doesn't exist, download it and prepare it...\n",
        "if os.path.isdir(image_path):\n",
        "    print(f\"{image_path} directory exists.\")\n",
        "else:\n",
        "    print(f\"Did not find {image_path} directory, creating one...\")\n",
        "    os.makedirs(image_path, exist_ok=True)\n",
        "\n",
        "zip_full_path = os.path.join(data_path, f\"{DEFAULT_NAME}.zip\")\n",
        "\n",
        "# Download pizza, steak, sushi data\n",
        "with open(zip_full_path, \"wb\") as f:\n",
        "    request = requests.get(args.src_url if args.src_url else DEFAULT_SRC_URL)\n",
        "    print(f\"Downloading {DEFAULT_NAME} data...\")\n",
        "    f.write(request.content)\n",
        "\n",
        "# Unzip pizza, steak, sushi data\n",
        "with zipfile.ZipFile(zip_full_path, \"r\") as zip_ref:\n",
        "    print(f\"Unzipping {DEFAULT_NAME} data...\")\n",
        "    zip_ref.extractall(image_path)\n",
        "\n",
        "# Remove zip file\n",
        "os.remove(zip_full_path)"
      ],
      "metadata": {
        "id": "r0BCn1XIYZ8c",
        "colab": {
          "base_uri": "https://localhost:8080/"
        },
        "outputId": "85df2647-3d8d-4f9d-fe33-ba9f48be7f14"
      },
      "execution_count": 6,
      "outputs": [
        {
          "output_type": "stream",
          "name": "stdout",
          "text": [
            "Overwriting get_data.py\n"
          ]
        }
      ]
    },
    {
      "cell_type": "code",
      "source": [
        "# Example running of get_data.py\n",
        "!python get_data.py"
      ],
      "metadata": {
        "id": "_LrUOIC-YOP9",
        "colab": {
          "base_uri": "https://localhost:8080/"
        },
        "outputId": "d05779cb-3429-4b82-c443-200d761564ba"
      },
      "execution_count": 7,
      "outputs": [
        {
          "output_type": "stream",
          "name": "stdout",
          "text": [
            "data/pizza_steak_sushi directory exists.\n",
            "Downloading pizza_steak_sushi data...\n",
            "Unzipping pizza_steak_sushi data...\n"
          ]
        }
      ]
    },
    {
      "cell_type": "markdown",
      "source": [
        "## 2. Use [Python's `argparse` module](https://docs.python.org/3/library/argparse.html) to be able to send the `train.py` custom hyperparameter values for training procedures.\n",
        "* Add an argument flag for using a different:\n",
        "  * Training/testing directory\n",
        "  * Learning rate\n",
        "  * Batch size\n",
        "  * Number of epochs to train for\n",
        "  * Number of hidden units in the TinyVGG model\n",
        "    * Keep the default values for each of the above arguments as what they already are (as in notebook 05).\n",
        "* For example, you should be able to run something similar to the following line to train a TinyVGG model with a learning rate of 0.003 and a batch size of 64 for 20 epochs: `python train.py --learning_rate 0.003 batch_size 64 num_epochs 20`.\n",
        "* **Note:** Since `train.py` leverages the other scripts we created in section 05, such as, `model_builder.py`, `utils.py` and `engine.py`, you'll have to make sure they're available to use too. You can find these in the [`going_modular` folder on the course GitHub](https://github.com/mrdbourke/pytorch-deep-learning/tree/main/going_modular/going_modular)."
      ],
      "metadata": {
        "id": "zjyn7LU3mvkR"
      }
    },
    {
      "cell_type": "code",
      "source": [
        "import os\n",
        "import requests\n",
        "\n",
        "def fetch_url(entry):\n",
        "  path, uri = entry\n",
        "\n",
        "  if not os.path.exists(path):\n",
        "    r = requests.get(uri, stream=True)\n",
        "\n",
        "    if r.status_code == 200:\n",
        "      with open(path, 'wb') as f:\n",
        "        for chunk in r:\n",
        "          f.write(chunk)\n",
        "  return path"
      ],
      "metadata": {
        "id": "n_J4ElMdmcak"
      },
      "execution_count": 8,
      "outputs": []
    },
    {
      "cell_type": "code",
      "source": [
        "# download required python scripts\n",
        "# I previously made this in Chapter 5\n",
        "\n",
        "from multiprocessing.pool import ThreadPool\n",
        "\n",
        "urls = [\n",
        "    (\"data_setup.py\",\"https://raw.githubusercontent.com/AishaEvering/PyTorch_Exercises/main/assests/data_setup.py\"),\n",
        "    (\"engine.py\",\"https://raw.githubusercontent.com/AishaEvering/PyTorch_Exercises/main/assests/engine.py\"),\n",
        "    (\"model_builder.py\",\"https://raw.githubusercontent.com/AishaEvering/PyTorch_Exercises/main/assests/model_builder.py\"),\n",
        "    (\"utils.py\",\"https://raw.githubusercontent.com/AishaEvering/PyTorch_Exercises/main/assests/utils.py\")\n",
        "]\n",
        "\n",
        "results = ThreadPool(8).imap_unordered(fetch_url, urls)\n",
        "\n",
        "for path in results:\n",
        "  print(path)"
      ],
      "metadata": {
        "colab": {
          "base_uri": "https://localhost:8080/"
        },
        "id": "Bg42717im--R",
        "outputId": "9b4ed5e3-0854-4aa1-d7d1-1da3dd6746c7"
      },
      "execution_count": 24,
      "outputs": [
        {
          "output_type": "stream",
          "name": "stdout",
          "text": [
            "data_setup.py\n",
            "engine.py\n",
            "model_builder.py\n",
            "utils.py\n"
          ]
        }
      ]
    },
    {
      "cell_type": "code",
      "source": [
        "%%writefile train.py\n",
        "\"\"\"\n",
        "Trains a PyTorch image classification model using device-agnostic code.\n",
        "\"\"\"\n",
        "import os\n",
        "import torch\n",
        "from torchvision import transforms\n",
        "import data_setup, engine, model_builder, utils\n",
        "import argparse\n",
        "from functools import wraps\n",
        "from time import perf_counter\n",
        "\n",
        "# create timer decorator\n",
        "def get_time(func):\n",
        "  \"\"\"\n",
        "  Times training function\n",
        "  \"\"\"\n",
        "\n",
        "  @wraps(func)\n",
        "  def wrapper(*args, **kwargs):\n",
        "    start_time: float = perf_counter()\n",
        "    func(*args, **kwargs)\n",
        "    end_time: float = perf_counter()\n",
        "    print(f\"[INFO] Total execution time: {end_time-start_time:.3f} seconds\")\n",
        "\n",
        "  return wrapper\n",
        "\n",
        "# create arguments\n",
        "parser = argparse.ArgumentParser(prog=\"Train\", description=\"Trains a model\")\n",
        "\n",
        "parser.add_argument('--num_epochs', dest=\"num_epochs\", default=5, help=\"Number of epochs.\")\n",
        "parser.add_argument('--batch_size', dest=\"batch_size\", default=32, help=\"Number of batches.\")\n",
        "parser.add_argument('--hidden_units', dest=\"hidden_units\", default=10, help=\"Number of hidden units.\")\n",
        "parser.add_argument('--learning_rate', dest=\"learning_rate\", default=0.001, help=\"Optimizer learning rate.\")\n",
        "parser.add_argument('--train_dir', dest=\"train_dir\", default=\"data/pizza_steak_sushi/train\", help=\"Training data directory.\")\n",
        "parser.add_argument('--test_dir', dest=\"test_dir\", default=\"data/pizza_steak_sushi/test\", help=\"Testing data directory.\")\n",
        "parser.add_argument('--model_save_as', dest=\"model_save_as\", default=\"05_going_modular_script_mode_tinyvgg_model.pth\",\n",
        "                    help=\"Name the model will be saved as.\")\n",
        "\n",
        "args = parser.parse_args()\n",
        "\n",
        "@get_time\n",
        "def train(args: argparse.Namespace) -> None:\n",
        "  # Setup directories\n",
        "  train_dir = args.train_dir\n",
        "  test_dir = args.test_dir\n",
        "\n",
        "  # Setup device agnostic code\n",
        "  device = \"cuda\" if torch.cuda.is_available() else \"cpu\"\n",
        "\n",
        "  data_transform = transforms.Compose([transforms.Resize((64, 64)),\n",
        "                                      transforms.ToTensor()])\n",
        "\n",
        "  # Create DataLoaders's and get class_names\n",
        "  train_dataloader, test_dataloader, class_names = data_setup.create_dataloaders(train_dir=train_dir,\n",
        "                                                                                  test_dir=test_dir,\n",
        "                                                                                  transform=data_transform,\n",
        "                                                                                  batch_size=int(args.batch_size))\n",
        "\n",
        "  print(f'Input Shape: {3}\\nHidden Units: {args.hidden_units}\\nOutput Shape:{len(class_names)}')\n",
        "  # Create model\n",
        "  model = model_builder.TinyVGG(input_shape=3, hidden_units=int(args.hidden_units), output_shape=len(class_names)).to(device)\n",
        "\n",
        "  # Setup loss and optimizer\n",
        "  loss_fn = torch.nn.CrossEntropyLoss()\n",
        "  optimizer = torch.optim.Adam(model.parameters(), lr=float(args.learning_rate))\n",
        "\n",
        "  # Start training with help from engine.py\n",
        "  engine.train(model=model,\n",
        "              train_dataloader=train_dataloader,\n",
        "              test_dataloader=test_dataloader,\n",
        "              loss_fn=loss_fn,\n",
        "              optimizer=optimizer,\n",
        "              epochs=int(args.num_epochs),\n",
        "              device=device)\n",
        "\n",
        "  # Save the model to file\n",
        "  utils.save_model(model=model,\n",
        "              target_dir=\"models\",\n",
        "              model_name=args.model_save_as)\n",
        "\n",
        "\n",
        "# call train\n",
        "train(args)"
      ],
      "metadata": {
        "colab": {
          "base_uri": "https://localhost:8080/"
        },
        "id": "kiGn0hkxo29i",
        "outputId": "82451ff6-f39f-423b-d4e8-706732cfc898"
      },
      "execution_count": 31,
      "outputs": [
        {
          "output_type": "stream",
          "name": "stdout",
          "text": [
            "Overwriting train.py\n"
          ]
        }
      ]
    },
    {
      "cell_type": "code",
      "source": [
        "# Example running of train.py\n",
        "!python train.py --num_epochs 5 --batch_size 128 --hidden_units 128 --learning_rate 0.0003"
      ],
      "metadata": {
        "id": "LzaJl39lC40N",
        "colab": {
          "base_uri": "https://localhost:8080/"
        },
        "outputId": "7c761006-56ad-4e5d-a793-180fb5787f46"
      },
      "execution_count": 32,
      "outputs": [
        {
          "output_type": "stream",
          "name": "stdout",
          "text": [
            "Input Shape: 3\n",
            "Hidden Units: 128\n",
            "Output Shape:3\n",
            "  0% 0/5 [00:00<?, ?it/s]Epoch: 1 | train_loss: 1.1032 | train_acc: 0.3500 | test_loss: 1.0938 | test_acc: 0.3333\n",
            " 20% 1/5 [00:01<00:05,  1.44s/it]Epoch: 2 | train_loss: 1.0961 | train_acc: 0.3485 | test_loss: 1.0938 | test_acc: 0.3733\n",
            " 40% 2/5 [00:02<00:03,  1.23s/it]Epoch: 3 | train_loss: 1.0812 | train_acc: 0.4726 | test_loss: 1.0731 | test_acc: 0.3867\n",
            " 60% 3/5 [00:03<00:02,  1.15s/it]Epoch: 4 | train_loss: 1.0528 | train_acc: 0.5344 | test_loss: 1.0439 | test_acc: 0.4533\n",
            " 80% 4/5 [00:04<00:01,  1.21s/it]Epoch: 5 | train_loss: 1.0094 | train_acc: 0.5697 | test_loss: 1.0187 | test_acc: 0.4400\n",
            "100% 5/5 [00:06<00:00,  1.30s/it]\n",
            "[INFO] Saving model to: models/05_going_modular_script_mode_tinyvgg_model.pth\n",
            "[INFO] Total execution time: 6.628 seconds\n"
          ]
        }
      ]
    },
    {
      "cell_type": "markdown",
      "source": [
        "## 3. Create a Python script to predict (such as `predict.py`) on a target image given a file path with a saved model.\n",
        "\n",
        "* For example, you should be able to run the command `python predict.py some_image.jpeg` and have a trained PyTorch model predict on the image and return its prediction.\n",
        "* To see example prediction code, check out the [predicting on a custom image section in notebook 04](https://www.learnpytorch.io/04_pytorch_custom_datasets/#113-putting-custom-image-prediction-together-building-a-function).\n",
        "* You may also have to write code to load in a trained model."
      ],
      "metadata": {
        "id": "P2g6EEYvm-46"
      }
    },
    {
      "cell_type": "code",
      "source": [
        "%%writefile predict.py\n",
        "\n",
        "\"\"\"\n",
        "Loads a model and makes a prediction on the given image.\n",
        "\"\"\"\n",
        "import torch\n",
        "import torchvision\n",
        "import argparse\n",
        "from torch import nn\n",
        "from torchvision import transforms\n",
        "from typing import Tuple\n",
        "import model_builder\n",
        "\n",
        "\n",
        "# create arguments\n",
        "parser = argparse.ArgumentParser(prog=\"Train\", description=\"Trains a model\")\n",
        "parser.add_argument('--image', dest=\"image\", help=\"Image used in prediction.\")\n",
        "parser.add_argument('--model_path', dest=\"model_path\", default=\"models/05_going_modular_script_mode_tinyvgg_model.pth\", help=\"Path to trained model.\")\n",
        "args = parser.parse_args()\n",
        "\n",
        "def transform(img: torch.Tensor, expected_size: Tuple = (64, 64)) -> torch.Tensor:\n",
        "  # create transform pipeline\n",
        "  img_transformer = transforms.Compose([transforms.Resize(size=expected_size)])\n",
        "\n",
        "  # resize the image\n",
        "  return img_transformer(img)\n",
        "\n",
        "def get_predicted_class(img: torch.Tensor, model: torch.nn.Module, device: str) -> Tuple[str, float]:\n",
        "  model.eval()\n",
        "  with torch.inference_mode():\n",
        "    image_preds = model(img.to(device))\n",
        "    pred_probabilities = torch.softmax(image_preds, dim=1)\n",
        "    predicted_label = torch.argmax(pred_probabilities, dim=1).cpu()\n",
        "\n",
        "  class_labels = ['pizza', 'steak', 'sushi']\n",
        "\n",
        "  return class_labels[predicted_label], pred_probabilities.max()\n",
        "\n",
        "def predict_image(image_path: str, model: torch.nn.Module, device: str, expected_size: tuple = (64, 64)) -> None:\n",
        "  '''\n",
        "    Makes a prediction on a target image with a trained model and plots the image and prediciton.\n",
        "  '''\n",
        "  # read image\n",
        "  img = torchvision.io.read_image(image_path)\n",
        "\n",
        "  # update the type\n",
        "  img = img.type(torch.float32)\n",
        "\n",
        "  # scale the image\n",
        "  img = img / 255\n",
        "\n",
        "  # resize the image\n",
        "  img = transform(img)\n",
        "\n",
        "  # add batch size dimension\n",
        "  img = img.unsqueeze(0)\n",
        "\n",
        "  # make sure model is on target device\n",
        "  model.to(device)\n",
        "\n",
        "  # predict\n",
        "  label, pred_prob = get_predicted_class(img, model, device)\n",
        "\n",
        "  print(f'[INFO] Pred: {label} | Prob: {(pred_prob * 100):.2f}%')\n",
        "\n",
        "# Setup device agnostic code\n",
        "device = \"cuda\" if torch.cuda.is_available() else \"cpu\"\n",
        "\n",
        "# load model\n",
        "loaded_model = model_builder.TinyVGG(input_shape=3, hidden_units=128, output_shape=3).to(device)\n",
        "loaded_model.load_state_dict(torch.load(args.model_path))\n",
        "predict_image(args.image, loaded_model, device)"
      ],
      "metadata": {
        "id": "HU7W6VZfYawP",
        "colab": {
          "base_uri": "https://localhost:8080/"
        },
        "outputId": "4e03ede6-0a6f-4282-a9ea-bda965e37e88"
      },
      "execution_count": 61,
      "outputs": [
        {
          "output_type": "stream",
          "name": "stdout",
          "text": [
            "Overwriting predict.py\n"
          ]
        }
      ]
    },
    {
      "cell_type": "code",
      "source": [
        "# Example running of predict.py\n",
        "!python predict.py --image data/pizza_steak_sushi/test/sushi/175783.jpg"
      ],
      "metadata": {
        "id": "Zcvw9sitIn6r",
        "colab": {
          "base_uri": "https://localhost:8080/"
        },
        "outputId": "91a368cf-bd39-46f6-bcfe-390d1683dc07"
      },
      "execution_count": 64,
      "outputs": [
        {
          "output_type": "stream",
          "name": "stdout",
          "text": [
            "[INFO] Pred: pizza | Prob: 42.59%\n"
          ]
        }
      ]
    },
    {
      "cell_type": "code",
      "source": [],
      "metadata": {
        "id": "G7bq90c74jXT"
      },
      "execution_count": null,
      "outputs": []
    }
  ]
}