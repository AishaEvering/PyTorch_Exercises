{
  "nbformat": 4,
  "nbformat_minor": 0,
  "metadata": {
    "colab": {
      "provenance": [],
      "include_colab_link": true
    },
    "kernelspec": {
      "name": "python3",
      "display_name": "Python 3"
    },
    "language_info": {
      "name": "python"
    },
    "accelerator": "GPU",
    "widgets": {
      "application/vnd.jupyter.widget-state+json": {
        "e6cf061a14654b13807011f1fe553e03": {
          "model_module": "@jupyter-widgets/controls",
          "model_name": "HBoxModel",
          "model_module_version": "1.5.0",
          "state": {
            "_dom_classes": [],
            "_model_module": "@jupyter-widgets/controls",
            "_model_module_version": "1.5.0",
            "_model_name": "HBoxModel",
            "_view_count": null,
            "_view_module": "@jupyter-widgets/controls",
            "_view_module_version": "1.5.0",
            "_view_name": "HBoxView",
            "box_style": "",
            "children": [
              "IPY_MODEL_5c85ad5239b94be0916538050f90be1e",
              "IPY_MODEL_c278fea388d74eb29c68d93390ae8914",
              "IPY_MODEL_e90c67ef0831428595faf73b65bac7d3"
            ],
            "layout": "IPY_MODEL_eccaca352e714ddd9e5830239d3e0ca3"
          }
        },
        "5c85ad5239b94be0916538050f90be1e": {
          "model_module": "@jupyter-widgets/controls",
          "model_name": "HTMLModel",
          "model_module_version": "1.5.0",
          "state": {
            "_dom_classes": [],
            "_model_module": "@jupyter-widgets/controls",
            "_model_module_version": "1.5.0",
            "_model_name": "HTMLModel",
            "_view_count": null,
            "_view_module": "@jupyter-widgets/controls",
            "_view_module_version": "1.5.0",
            "_view_name": "HTMLView",
            "description": "",
            "description_tooltip": null,
            "layout": "IPY_MODEL_9295d9cabb7240d1adf712ad1754e03c",
            "placeholder": "​",
            "style": "IPY_MODEL_ccd5c1e7d88046e593cc899a64d53639",
            "value": "100%"
          }
        },
        "c278fea388d74eb29c68d93390ae8914": {
          "model_module": "@jupyter-widgets/controls",
          "model_name": "FloatProgressModel",
          "model_module_version": "1.5.0",
          "state": {
            "_dom_classes": [],
            "_model_module": "@jupyter-widgets/controls",
            "_model_module_version": "1.5.0",
            "_model_name": "FloatProgressModel",
            "_view_count": null,
            "_view_module": "@jupyter-widgets/controls",
            "_view_module_version": "1.5.0",
            "_view_name": "ProgressView",
            "bar_style": "success",
            "description": "",
            "description_tooltip": null,
            "layout": "IPY_MODEL_44d46f6066414133870ede98f5c77194",
            "max": 5,
            "min": 0,
            "orientation": "horizontal",
            "style": "IPY_MODEL_5292d97b22e4458ba13e61e4a66ce3b9",
            "value": 5
          }
        },
        "e90c67ef0831428595faf73b65bac7d3": {
          "model_module": "@jupyter-widgets/controls",
          "model_name": "HTMLModel",
          "model_module_version": "1.5.0",
          "state": {
            "_dom_classes": [],
            "_model_module": "@jupyter-widgets/controls",
            "_model_module_version": "1.5.0",
            "_model_name": "HTMLModel",
            "_view_count": null,
            "_view_module": "@jupyter-widgets/controls",
            "_view_module_version": "1.5.0",
            "_view_name": "HTMLView",
            "description": "",
            "description_tooltip": null,
            "layout": "IPY_MODEL_32933335dbe2478fa9d598310f5b2660",
            "placeholder": "​",
            "style": "IPY_MODEL_ceb59026aa204351ab0ffa6e0491cc1b",
            "value": " 5/5 [03:48&lt;00:00, 45.78s/it]"
          }
        },
        "eccaca352e714ddd9e5830239d3e0ca3": {
          "model_module": "@jupyter-widgets/base",
          "model_name": "LayoutModel",
          "model_module_version": "1.2.0",
          "state": {
            "_model_module": "@jupyter-widgets/base",
            "_model_module_version": "1.2.0",
            "_model_name": "LayoutModel",
            "_view_count": null,
            "_view_module": "@jupyter-widgets/base",
            "_view_module_version": "1.2.0",
            "_view_name": "LayoutView",
            "align_content": null,
            "align_items": null,
            "align_self": null,
            "border": null,
            "bottom": null,
            "display": null,
            "flex": null,
            "flex_flow": null,
            "grid_area": null,
            "grid_auto_columns": null,
            "grid_auto_flow": null,
            "grid_auto_rows": null,
            "grid_column": null,
            "grid_gap": null,
            "grid_row": null,
            "grid_template_areas": null,
            "grid_template_columns": null,
            "grid_template_rows": null,
            "height": null,
            "justify_content": null,
            "justify_items": null,
            "left": null,
            "margin": null,
            "max_height": null,
            "max_width": null,
            "min_height": null,
            "min_width": null,
            "object_fit": null,
            "object_position": null,
            "order": null,
            "overflow": null,
            "overflow_x": null,
            "overflow_y": null,
            "padding": null,
            "right": null,
            "top": null,
            "visibility": null,
            "width": null
          }
        },
        "9295d9cabb7240d1adf712ad1754e03c": {
          "model_module": "@jupyter-widgets/base",
          "model_name": "LayoutModel",
          "model_module_version": "1.2.0",
          "state": {
            "_model_module": "@jupyter-widgets/base",
            "_model_module_version": "1.2.0",
            "_model_name": "LayoutModel",
            "_view_count": null,
            "_view_module": "@jupyter-widgets/base",
            "_view_module_version": "1.2.0",
            "_view_name": "LayoutView",
            "align_content": null,
            "align_items": null,
            "align_self": null,
            "border": null,
            "bottom": null,
            "display": null,
            "flex": null,
            "flex_flow": null,
            "grid_area": null,
            "grid_auto_columns": null,
            "grid_auto_flow": null,
            "grid_auto_rows": null,
            "grid_column": null,
            "grid_gap": null,
            "grid_row": null,
            "grid_template_areas": null,
            "grid_template_columns": null,
            "grid_template_rows": null,
            "height": null,
            "justify_content": null,
            "justify_items": null,
            "left": null,
            "margin": null,
            "max_height": null,
            "max_width": null,
            "min_height": null,
            "min_width": null,
            "object_fit": null,
            "object_position": null,
            "order": null,
            "overflow": null,
            "overflow_x": null,
            "overflow_y": null,
            "padding": null,
            "right": null,
            "top": null,
            "visibility": null,
            "width": null
          }
        },
        "ccd5c1e7d88046e593cc899a64d53639": {
          "model_module": "@jupyter-widgets/controls",
          "model_name": "DescriptionStyleModel",
          "model_module_version": "1.5.0",
          "state": {
            "_model_module": "@jupyter-widgets/controls",
            "_model_module_version": "1.5.0",
            "_model_name": "DescriptionStyleModel",
            "_view_count": null,
            "_view_module": "@jupyter-widgets/base",
            "_view_module_version": "1.2.0",
            "_view_name": "StyleView",
            "description_width": ""
          }
        },
        "44d46f6066414133870ede98f5c77194": {
          "model_module": "@jupyter-widgets/base",
          "model_name": "LayoutModel",
          "model_module_version": "1.2.0",
          "state": {
            "_model_module": "@jupyter-widgets/base",
            "_model_module_version": "1.2.0",
            "_model_name": "LayoutModel",
            "_view_count": null,
            "_view_module": "@jupyter-widgets/base",
            "_view_module_version": "1.2.0",
            "_view_name": "LayoutView",
            "align_content": null,
            "align_items": null,
            "align_self": null,
            "border": null,
            "bottom": null,
            "display": null,
            "flex": null,
            "flex_flow": null,
            "grid_area": null,
            "grid_auto_columns": null,
            "grid_auto_flow": null,
            "grid_auto_rows": null,
            "grid_column": null,
            "grid_gap": null,
            "grid_row": null,
            "grid_template_areas": null,
            "grid_template_columns": null,
            "grid_template_rows": null,
            "height": null,
            "justify_content": null,
            "justify_items": null,
            "left": null,
            "margin": null,
            "max_height": null,
            "max_width": null,
            "min_height": null,
            "min_width": null,
            "object_fit": null,
            "object_position": null,
            "order": null,
            "overflow": null,
            "overflow_x": null,
            "overflow_y": null,
            "padding": null,
            "right": null,
            "top": null,
            "visibility": null,
            "width": null
          }
        },
        "5292d97b22e4458ba13e61e4a66ce3b9": {
          "model_module": "@jupyter-widgets/controls",
          "model_name": "ProgressStyleModel",
          "model_module_version": "1.5.0",
          "state": {
            "_model_module": "@jupyter-widgets/controls",
            "_model_module_version": "1.5.0",
            "_model_name": "ProgressStyleModel",
            "_view_count": null,
            "_view_module": "@jupyter-widgets/base",
            "_view_module_version": "1.2.0",
            "_view_name": "StyleView",
            "bar_color": null,
            "description_width": ""
          }
        },
        "32933335dbe2478fa9d598310f5b2660": {
          "model_module": "@jupyter-widgets/base",
          "model_name": "LayoutModel",
          "model_module_version": "1.2.0",
          "state": {
            "_model_module": "@jupyter-widgets/base",
            "_model_module_version": "1.2.0",
            "_model_name": "LayoutModel",
            "_view_count": null,
            "_view_module": "@jupyter-widgets/base",
            "_view_module_version": "1.2.0",
            "_view_name": "LayoutView",
            "align_content": null,
            "align_items": null,
            "align_self": null,
            "border": null,
            "bottom": null,
            "display": null,
            "flex": null,
            "flex_flow": null,
            "grid_area": null,
            "grid_auto_columns": null,
            "grid_auto_flow": null,
            "grid_auto_rows": null,
            "grid_column": null,
            "grid_gap": null,
            "grid_row": null,
            "grid_template_areas": null,
            "grid_template_columns": null,
            "grid_template_rows": null,
            "height": null,
            "justify_content": null,
            "justify_items": null,
            "left": null,
            "margin": null,
            "max_height": null,
            "max_width": null,
            "min_height": null,
            "min_width": null,
            "object_fit": null,
            "object_position": null,
            "order": null,
            "overflow": null,
            "overflow_x": null,
            "overflow_y": null,
            "padding": null,
            "right": null,
            "top": null,
            "visibility": null,
            "width": null
          }
        },
        "ceb59026aa204351ab0ffa6e0491cc1b": {
          "model_module": "@jupyter-widgets/controls",
          "model_name": "DescriptionStyleModel",
          "model_module_version": "1.5.0",
          "state": {
            "_model_module": "@jupyter-widgets/controls",
            "_model_module_version": "1.5.0",
            "_model_name": "DescriptionStyleModel",
            "_view_count": null,
            "_view_module": "@jupyter-widgets/base",
            "_view_module_version": "1.2.0",
            "_view_name": "StyleView",
            "description_width": ""
          }
        },
        "c4261c8467dd45bdb00e83d270499ab8": {
          "model_module": "@jupyter-widgets/controls",
          "model_name": "HBoxModel",
          "model_module_version": "1.5.0",
          "state": {
            "_dom_classes": [],
            "_model_module": "@jupyter-widgets/controls",
            "_model_module_version": "1.5.0",
            "_model_name": "HBoxModel",
            "_view_count": null,
            "_view_module": "@jupyter-widgets/controls",
            "_view_module_version": "1.5.0",
            "_view_name": "HBoxView",
            "box_style": "",
            "children": [
              "IPY_MODEL_9a7787ee3a69452783136d41c6f9d557",
              "IPY_MODEL_d36aabcb4ee8451e9b958a9e93b3117b",
              "IPY_MODEL_dfeb60977c844f25b9c99fc7bfb23efd"
            ],
            "layout": "IPY_MODEL_30f08267e7eb44c0b8ef0ba3065f1d38"
          }
        },
        "9a7787ee3a69452783136d41c6f9d557": {
          "model_module": "@jupyter-widgets/controls",
          "model_name": "HTMLModel",
          "model_module_version": "1.5.0",
          "state": {
            "_dom_classes": [],
            "_model_module": "@jupyter-widgets/controls",
            "_model_module_version": "1.5.0",
            "_model_name": "HTMLModel",
            "_view_count": null,
            "_view_module": "@jupyter-widgets/controls",
            "_view_module_version": "1.5.0",
            "_view_name": "HTMLView",
            "description": "",
            "description_tooltip": null,
            "layout": "IPY_MODEL_3c28aec18c914db6b70e7eb558d1435f",
            "placeholder": "​",
            "style": "IPY_MODEL_9e71fbff803e47c494e77586e503c0d8",
            "value": "100%"
          }
        },
        "d36aabcb4ee8451e9b958a9e93b3117b": {
          "model_module": "@jupyter-widgets/controls",
          "model_name": "FloatProgressModel",
          "model_module_version": "1.5.0",
          "state": {
            "_dom_classes": [],
            "_model_module": "@jupyter-widgets/controls",
            "_model_module_version": "1.5.0",
            "_model_name": "FloatProgressModel",
            "_view_count": null,
            "_view_module": "@jupyter-widgets/controls",
            "_view_module_version": "1.5.0",
            "_view_name": "ProgressView",
            "bar_style": "success",
            "description": "",
            "description_tooltip": null,
            "layout": "IPY_MODEL_f26edbf32a4044e7a37e02b55fb101c0",
            "max": 5,
            "min": 0,
            "orientation": "horizontal",
            "style": "IPY_MODEL_5345e84da6104ccf952421732fa70063",
            "value": 5
          }
        },
        "dfeb60977c844f25b9c99fc7bfb23efd": {
          "model_module": "@jupyter-widgets/controls",
          "model_name": "HTMLModel",
          "model_module_version": "1.5.0",
          "state": {
            "_dom_classes": [],
            "_model_module": "@jupyter-widgets/controls",
            "_model_module_version": "1.5.0",
            "_model_name": "HTMLModel",
            "_view_count": null,
            "_view_module": "@jupyter-widgets/controls",
            "_view_module_version": "1.5.0",
            "_view_name": "HTMLView",
            "description": "",
            "description_tooltip": null,
            "layout": "IPY_MODEL_c0e3909b8b404bb58d36651458f611b6",
            "placeholder": "​",
            "style": "IPY_MODEL_8593eb6b4982405ba425ba016bd4f5fa",
            "value": " 5/5 [01:15&lt;00:00, 15.04s/it]"
          }
        },
        "30f08267e7eb44c0b8ef0ba3065f1d38": {
          "model_module": "@jupyter-widgets/base",
          "model_name": "LayoutModel",
          "model_module_version": "1.2.0",
          "state": {
            "_model_module": "@jupyter-widgets/base",
            "_model_module_version": "1.2.0",
            "_model_name": "LayoutModel",
            "_view_count": null,
            "_view_module": "@jupyter-widgets/base",
            "_view_module_version": "1.2.0",
            "_view_name": "LayoutView",
            "align_content": null,
            "align_items": null,
            "align_self": null,
            "border": null,
            "bottom": null,
            "display": null,
            "flex": null,
            "flex_flow": null,
            "grid_area": null,
            "grid_auto_columns": null,
            "grid_auto_flow": null,
            "grid_auto_rows": null,
            "grid_column": null,
            "grid_gap": null,
            "grid_row": null,
            "grid_template_areas": null,
            "grid_template_columns": null,
            "grid_template_rows": null,
            "height": null,
            "justify_content": null,
            "justify_items": null,
            "left": null,
            "margin": null,
            "max_height": null,
            "max_width": null,
            "min_height": null,
            "min_width": null,
            "object_fit": null,
            "object_position": null,
            "order": null,
            "overflow": null,
            "overflow_x": null,
            "overflow_y": null,
            "padding": null,
            "right": null,
            "top": null,
            "visibility": null,
            "width": null
          }
        },
        "3c28aec18c914db6b70e7eb558d1435f": {
          "model_module": "@jupyter-widgets/base",
          "model_name": "LayoutModel",
          "model_module_version": "1.2.0",
          "state": {
            "_model_module": "@jupyter-widgets/base",
            "_model_module_version": "1.2.0",
            "_model_name": "LayoutModel",
            "_view_count": null,
            "_view_module": "@jupyter-widgets/base",
            "_view_module_version": "1.2.0",
            "_view_name": "LayoutView",
            "align_content": null,
            "align_items": null,
            "align_self": null,
            "border": null,
            "bottom": null,
            "display": null,
            "flex": null,
            "flex_flow": null,
            "grid_area": null,
            "grid_auto_columns": null,
            "grid_auto_flow": null,
            "grid_auto_rows": null,
            "grid_column": null,
            "grid_gap": null,
            "grid_row": null,
            "grid_template_areas": null,
            "grid_template_columns": null,
            "grid_template_rows": null,
            "height": null,
            "justify_content": null,
            "justify_items": null,
            "left": null,
            "margin": null,
            "max_height": null,
            "max_width": null,
            "min_height": null,
            "min_width": null,
            "object_fit": null,
            "object_position": null,
            "order": null,
            "overflow": null,
            "overflow_x": null,
            "overflow_y": null,
            "padding": null,
            "right": null,
            "top": null,
            "visibility": null,
            "width": null
          }
        },
        "9e71fbff803e47c494e77586e503c0d8": {
          "model_module": "@jupyter-widgets/controls",
          "model_name": "DescriptionStyleModel",
          "model_module_version": "1.5.0",
          "state": {
            "_model_module": "@jupyter-widgets/controls",
            "_model_module_version": "1.5.0",
            "_model_name": "DescriptionStyleModel",
            "_view_count": null,
            "_view_module": "@jupyter-widgets/base",
            "_view_module_version": "1.2.0",
            "_view_name": "StyleView",
            "description_width": ""
          }
        },
        "f26edbf32a4044e7a37e02b55fb101c0": {
          "model_module": "@jupyter-widgets/base",
          "model_name": "LayoutModel",
          "model_module_version": "1.2.0",
          "state": {
            "_model_module": "@jupyter-widgets/base",
            "_model_module_version": "1.2.0",
            "_model_name": "LayoutModel",
            "_view_count": null,
            "_view_module": "@jupyter-widgets/base",
            "_view_module_version": "1.2.0",
            "_view_name": "LayoutView",
            "align_content": null,
            "align_items": null,
            "align_self": null,
            "border": null,
            "bottom": null,
            "display": null,
            "flex": null,
            "flex_flow": null,
            "grid_area": null,
            "grid_auto_columns": null,
            "grid_auto_flow": null,
            "grid_auto_rows": null,
            "grid_column": null,
            "grid_gap": null,
            "grid_row": null,
            "grid_template_areas": null,
            "grid_template_columns": null,
            "grid_template_rows": null,
            "height": null,
            "justify_content": null,
            "justify_items": null,
            "left": null,
            "margin": null,
            "max_height": null,
            "max_width": null,
            "min_height": null,
            "min_width": null,
            "object_fit": null,
            "object_position": null,
            "order": null,
            "overflow": null,
            "overflow_x": null,
            "overflow_y": null,
            "padding": null,
            "right": null,
            "top": null,
            "visibility": null,
            "width": null
          }
        },
        "5345e84da6104ccf952421732fa70063": {
          "model_module": "@jupyter-widgets/controls",
          "model_name": "ProgressStyleModel",
          "model_module_version": "1.5.0",
          "state": {
            "_model_module": "@jupyter-widgets/controls",
            "_model_module_version": "1.5.0",
            "_model_name": "ProgressStyleModel",
            "_view_count": null,
            "_view_module": "@jupyter-widgets/base",
            "_view_module_version": "1.2.0",
            "_view_name": "StyleView",
            "bar_color": null,
            "description_width": ""
          }
        },
        "c0e3909b8b404bb58d36651458f611b6": {
          "model_module": "@jupyter-widgets/base",
          "model_name": "LayoutModel",
          "model_module_version": "1.2.0",
          "state": {
            "_model_module": "@jupyter-widgets/base",
            "_model_module_version": "1.2.0",
            "_model_name": "LayoutModel",
            "_view_count": null,
            "_view_module": "@jupyter-widgets/base",
            "_view_module_version": "1.2.0",
            "_view_name": "LayoutView",
            "align_content": null,
            "align_items": null,
            "align_self": null,
            "border": null,
            "bottom": null,
            "display": null,
            "flex": null,
            "flex_flow": null,
            "grid_area": null,
            "grid_auto_columns": null,
            "grid_auto_flow": null,
            "grid_auto_rows": null,
            "grid_column": null,
            "grid_gap": null,
            "grid_row": null,
            "grid_template_areas": null,
            "grid_template_columns": null,
            "grid_template_rows": null,
            "height": null,
            "justify_content": null,
            "justify_items": null,
            "left": null,
            "margin": null,
            "max_height": null,
            "max_width": null,
            "min_height": null,
            "min_width": null,
            "object_fit": null,
            "object_position": null,
            "order": null,
            "overflow": null,
            "overflow_x": null,
            "overflow_y": null,
            "padding": null,
            "right": null,
            "top": null,
            "visibility": null,
            "width": null
          }
        },
        "8593eb6b4982405ba425ba016bd4f5fa": {
          "model_module": "@jupyter-widgets/controls",
          "model_name": "DescriptionStyleModel",
          "model_module_version": "1.5.0",
          "state": {
            "_model_module": "@jupyter-widgets/controls",
            "_model_module_version": "1.5.0",
            "_model_name": "DescriptionStyleModel",
            "_view_count": null,
            "_view_module": "@jupyter-widgets/base",
            "_view_module_version": "1.2.0",
            "_view_name": "StyleView",
            "description_width": ""
          }
        },
        "215ccf27f77f49ac8ee98b005fc0f2bc": {
          "model_module": "@jupyter-widgets/controls",
          "model_name": "HBoxModel",
          "model_module_version": "1.5.0",
          "state": {
            "_dom_classes": [],
            "_model_module": "@jupyter-widgets/controls",
            "_model_module_version": "1.5.0",
            "_model_name": "HBoxModel",
            "_view_count": null,
            "_view_module": "@jupyter-widgets/controls",
            "_view_module_version": "1.5.0",
            "_view_name": "HBoxView",
            "box_style": "",
            "children": [
              "IPY_MODEL_480a3f0dc8fd4e89a4db178c0ee1ebea",
              "IPY_MODEL_71219c7482ac4690b400fdd0bc930302",
              "IPY_MODEL_f64f5ac2ef9f40128556052a313d187f"
            ],
            "layout": "IPY_MODEL_70b2a294b9d34461ba7f30d98e7f828e"
          }
        },
        "480a3f0dc8fd4e89a4db178c0ee1ebea": {
          "model_module": "@jupyter-widgets/controls",
          "model_name": "HTMLModel",
          "model_module_version": "1.5.0",
          "state": {
            "_dom_classes": [],
            "_model_module": "@jupyter-widgets/controls",
            "_model_module_version": "1.5.0",
            "_model_name": "HTMLModel",
            "_view_count": null,
            "_view_module": "@jupyter-widgets/controls",
            "_view_module_version": "1.5.0",
            "_view_name": "HTMLView",
            "description": "",
            "description_tooltip": null,
            "layout": "IPY_MODEL_5f4a80cc9c454e24b008b246cc6be229",
            "placeholder": "​",
            "style": "IPY_MODEL_c2013fab12da4586838d2a4269770920",
            "value": "Making predictions....: 100%"
          }
        },
        "71219c7482ac4690b400fdd0bc930302": {
          "model_module": "@jupyter-widgets/controls",
          "model_name": "FloatProgressModel",
          "model_module_version": "1.5.0",
          "state": {
            "_dom_classes": [],
            "_model_module": "@jupyter-widgets/controls",
            "_model_module_version": "1.5.0",
            "_model_name": "FloatProgressModel",
            "_view_count": null,
            "_view_module": "@jupyter-widgets/controls",
            "_view_module_version": "1.5.0",
            "_view_name": "ProgressView",
            "bar_style": "success",
            "description": "",
            "description_tooltip": null,
            "layout": "IPY_MODEL_28eeae8e296b4ee7b3f4c02abc69a971",
            "max": 9,
            "min": 0,
            "orientation": "horizontal",
            "style": "IPY_MODEL_01de01d8a8a84005a59bccbbb208a9e3",
            "value": 9
          }
        },
        "f64f5ac2ef9f40128556052a313d187f": {
          "model_module": "@jupyter-widgets/controls",
          "model_name": "HTMLModel",
          "model_module_version": "1.5.0",
          "state": {
            "_dom_classes": [],
            "_model_module": "@jupyter-widgets/controls",
            "_model_module_version": "1.5.0",
            "_model_name": "HTMLModel",
            "_view_count": null,
            "_view_module": "@jupyter-widgets/controls",
            "_view_module_version": "1.5.0",
            "_view_name": "HTMLView",
            "description": "",
            "description_tooltip": null,
            "layout": "IPY_MODEL_98a010cf43894c748c1960157f64453e",
            "placeholder": "​",
            "style": "IPY_MODEL_4bb84606c67c4b28a2828d5862a0e188",
            "value": " 9/9 [00:00&lt;00:00, 294.83it/s]"
          }
        },
        "70b2a294b9d34461ba7f30d98e7f828e": {
          "model_module": "@jupyter-widgets/base",
          "model_name": "LayoutModel",
          "model_module_version": "1.2.0",
          "state": {
            "_model_module": "@jupyter-widgets/base",
            "_model_module_version": "1.2.0",
            "_model_name": "LayoutModel",
            "_view_count": null,
            "_view_module": "@jupyter-widgets/base",
            "_view_module_version": "1.2.0",
            "_view_name": "LayoutView",
            "align_content": null,
            "align_items": null,
            "align_self": null,
            "border": null,
            "bottom": null,
            "display": null,
            "flex": null,
            "flex_flow": null,
            "grid_area": null,
            "grid_auto_columns": null,
            "grid_auto_flow": null,
            "grid_auto_rows": null,
            "grid_column": null,
            "grid_gap": null,
            "grid_row": null,
            "grid_template_areas": null,
            "grid_template_columns": null,
            "grid_template_rows": null,
            "height": null,
            "justify_content": null,
            "justify_items": null,
            "left": null,
            "margin": null,
            "max_height": null,
            "max_width": null,
            "min_height": null,
            "min_width": null,
            "object_fit": null,
            "object_position": null,
            "order": null,
            "overflow": null,
            "overflow_x": null,
            "overflow_y": null,
            "padding": null,
            "right": null,
            "top": null,
            "visibility": null,
            "width": null
          }
        },
        "5f4a80cc9c454e24b008b246cc6be229": {
          "model_module": "@jupyter-widgets/base",
          "model_name": "LayoutModel",
          "model_module_version": "1.2.0",
          "state": {
            "_model_module": "@jupyter-widgets/base",
            "_model_module_version": "1.2.0",
            "_model_name": "LayoutModel",
            "_view_count": null,
            "_view_module": "@jupyter-widgets/base",
            "_view_module_version": "1.2.0",
            "_view_name": "LayoutView",
            "align_content": null,
            "align_items": null,
            "align_self": null,
            "border": null,
            "bottom": null,
            "display": null,
            "flex": null,
            "flex_flow": null,
            "grid_area": null,
            "grid_auto_columns": null,
            "grid_auto_flow": null,
            "grid_auto_rows": null,
            "grid_column": null,
            "grid_gap": null,
            "grid_row": null,
            "grid_template_areas": null,
            "grid_template_columns": null,
            "grid_template_rows": null,
            "height": null,
            "justify_content": null,
            "justify_items": null,
            "left": null,
            "margin": null,
            "max_height": null,
            "max_width": null,
            "min_height": null,
            "min_width": null,
            "object_fit": null,
            "object_position": null,
            "order": null,
            "overflow": null,
            "overflow_x": null,
            "overflow_y": null,
            "padding": null,
            "right": null,
            "top": null,
            "visibility": null,
            "width": null
          }
        },
        "c2013fab12da4586838d2a4269770920": {
          "model_module": "@jupyter-widgets/controls",
          "model_name": "DescriptionStyleModel",
          "model_module_version": "1.5.0",
          "state": {
            "_model_module": "@jupyter-widgets/controls",
            "_model_module_version": "1.5.0",
            "_model_name": "DescriptionStyleModel",
            "_view_count": null,
            "_view_module": "@jupyter-widgets/base",
            "_view_module_version": "1.2.0",
            "_view_name": "StyleView",
            "description_width": ""
          }
        },
        "28eeae8e296b4ee7b3f4c02abc69a971": {
          "model_module": "@jupyter-widgets/base",
          "model_name": "LayoutModel",
          "model_module_version": "1.2.0",
          "state": {
            "_model_module": "@jupyter-widgets/base",
            "_model_module_version": "1.2.0",
            "_model_name": "LayoutModel",
            "_view_count": null,
            "_view_module": "@jupyter-widgets/base",
            "_view_module_version": "1.2.0",
            "_view_name": "LayoutView",
            "align_content": null,
            "align_items": null,
            "align_self": null,
            "border": null,
            "bottom": null,
            "display": null,
            "flex": null,
            "flex_flow": null,
            "grid_area": null,
            "grid_auto_columns": null,
            "grid_auto_flow": null,
            "grid_auto_rows": null,
            "grid_column": null,
            "grid_gap": null,
            "grid_row": null,
            "grid_template_areas": null,
            "grid_template_columns": null,
            "grid_template_rows": null,
            "height": null,
            "justify_content": null,
            "justify_items": null,
            "left": null,
            "margin": null,
            "max_height": null,
            "max_width": null,
            "min_height": null,
            "min_width": null,
            "object_fit": null,
            "object_position": null,
            "order": null,
            "overflow": null,
            "overflow_x": null,
            "overflow_y": null,
            "padding": null,
            "right": null,
            "top": null,
            "visibility": null,
            "width": null
          }
        },
        "01de01d8a8a84005a59bccbbb208a9e3": {
          "model_module": "@jupyter-widgets/controls",
          "model_name": "ProgressStyleModel",
          "model_module_version": "1.5.0",
          "state": {
            "_model_module": "@jupyter-widgets/controls",
            "_model_module_version": "1.5.0",
            "_model_name": "ProgressStyleModel",
            "_view_count": null,
            "_view_module": "@jupyter-widgets/base",
            "_view_module_version": "1.2.0",
            "_view_name": "StyleView",
            "bar_color": null,
            "description_width": ""
          }
        },
        "98a010cf43894c748c1960157f64453e": {
          "model_module": "@jupyter-widgets/base",
          "model_name": "LayoutModel",
          "model_module_version": "1.2.0",
          "state": {
            "_model_module": "@jupyter-widgets/base",
            "_model_module_version": "1.2.0",
            "_model_name": "LayoutModel",
            "_view_count": null,
            "_view_module": "@jupyter-widgets/base",
            "_view_module_version": "1.2.0",
            "_view_name": "LayoutView",
            "align_content": null,
            "align_items": null,
            "align_self": null,
            "border": null,
            "bottom": null,
            "display": null,
            "flex": null,
            "flex_flow": null,
            "grid_area": null,
            "grid_auto_columns": null,
            "grid_auto_flow": null,
            "grid_auto_rows": null,
            "grid_column": null,
            "grid_gap": null,
            "grid_row": null,
            "grid_template_areas": null,
            "grid_template_columns": null,
            "grid_template_rows": null,
            "height": null,
            "justify_content": null,
            "justify_items": null,
            "left": null,
            "margin": null,
            "max_height": null,
            "max_width": null,
            "min_height": null,
            "min_width": null,
            "object_fit": null,
            "object_position": null,
            "order": null,
            "overflow": null,
            "overflow_x": null,
            "overflow_y": null,
            "padding": null,
            "right": null,
            "top": null,
            "visibility": null,
            "width": null
          }
        },
        "4bb84606c67c4b28a2828d5862a0e188": {
          "model_module": "@jupyter-widgets/controls",
          "model_name": "DescriptionStyleModel",
          "model_module_version": "1.5.0",
          "state": {
            "_model_module": "@jupyter-widgets/controls",
            "_model_module_version": "1.5.0",
            "_model_name": "DescriptionStyleModel",
            "_view_count": null,
            "_view_module": "@jupyter-widgets/base",
            "_view_module_version": "1.2.0",
            "_view_name": "StyleView",
            "description_width": ""
          }
        },
        "f718a53710d84bdb8d04a71d7b215cb3": {
          "model_module": "@jupyter-widgets/controls",
          "model_name": "HBoxModel",
          "model_module_version": "1.5.0",
          "state": {
            "_dom_classes": [],
            "_model_module": "@jupyter-widgets/controls",
            "_model_module_version": "1.5.0",
            "_model_name": "HBoxModel",
            "_view_count": null,
            "_view_module": "@jupyter-widgets/controls",
            "_view_module_version": "1.5.0",
            "_view_name": "HBoxView",
            "box_style": "",
            "children": [
              "IPY_MODEL_7bd2e17b0e2747909b5a7835b51db8b3",
              "IPY_MODEL_b0df2aac811141459f3dc19fb7984c0e",
              "IPY_MODEL_2f9019718b874d75ba67f420e22d3164"
            ],
            "layout": "IPY_MODEL_a1fda59fd1974911bcc6e974d906e8f2"
          }
        },
        "7bd2e17b0e2747909b5a7835b51db8b3": {
          "model_module": "@jupyter-widgets/controls",
          "model_name": "HTMLModel",
          "model_module_version": "1.5.0",
          "state": {
            "_dom_classes": [],
            "_model_module": "@jupyter-widgets/controls",
            "_model_module_version": "1.5.0",
            "_model_name": "HTMLModel",
            "_view_count": null,
            "_view_module": "@jupyter-widgets/controls",
            "_view_module_version": "1.5.0",
            "_view_name": "HTMLView",
            "description": "",
            "description_tooltip": null,
            "layout": "IPY_MODEL_abdea341f4b04133b2ee4064242b9059",
            "placeholder": "​",
            "style": "IPY_MODEL_5c032129364848b7afdc125133d20715",
            "value": "Making predictions....: 100%"
          }
        },
        "b0df2aac811141459f3dc19fb7984c0e": {
          "model_module": "@jupyter-widgets/controls",
          "model_name": "FloatProgressModel",
          "model_module_version": "1.5.0",
          "state": {
            "_dom_classes": [],
            "_model_module": "@jupyter-widgets/controls",
            "_model_module_version": "1.5.0",
            "_model_name": "FloatProgressModel",
            "_view_count": null,
            "_view_module": "@jupyter-widgets/controls",
            "_view_module_version": "1.5.0",
            "_view_name": "ProgressView",
            "bar_style": "success",
            "description": "",
            "description_tooltip": null,
            "layout": "IPY_MODEL_236bad9de74143b0a691d7c8b7e752ea",
            "max": 313,
            "min": 0,
            "orientation": "horizontal",
            "style": "IPY_MODEL_b1f5451784ed42908c10e33e574f51e7",
            "value": 313
          }
        },
        "2f9019718b874d75ba67f420e22d3164": {
          "model_module": "@jupyter-widgets/controls",
          "model_name": "HTMLModel",
          "model_module_version": "1.5.0",
          "state": {
            "_dom_classes": [],
            "_model_module": "@jupyter-widgets/controls",
            "_model_module_version": "1.5.0",
            "_model_name": "HTMLModel",
            "_view_count": null,
            "_view_module": "@jupyter-widgets/controls",
            "_view_module_version": "1.5.0",
            "_view_name": "HTMLView",
            "description": "",
            "description_tooltip": null,
            "layout": "IPY_MODEL_011f11b044304f708a1231bba09748b4",
            "placeholder": "​",
            "style": "IPY_MODEL_a45c4d271fa145148b509338ad479c43",
            "value": " 313/313 [00:01&lt;00:00, 241.15it/s]"
          }
        },
        "a1fda59fd1974911bcc6e974d906e8f2": {
          "model_module": "@jupyter-widgets/base",
          "model_name": "LayoutModel",
          "model_module_version": "1.2.0",
          "state": {
            "_model_module": "@jupyter-widgets/base",
            "_model_module_version": "1.2.0",
            "_model_name": "LayoutModel",
            "_view_count": null,
            "_view_module": "@jupyter-widgets/base",
            "_view_module_version": "1.2.0",
            "_view_name": "LayoutView",
            "align_content": null,
            "align_items": null,
            "align_self": null,
            "border": null,
            "bottom": null,
            "display": null,
            "flex": null,
            "flex_flow": null,
            "grid_area": null,
            "grid_auto_columns": null,
            "grid_auto_flow": null,
            "grid_auto_rows": null,
            "grid_column": null,
            "grid_gap": null,
            "grid_row": null,
            "grid_template_areas": null,
            "grid_template_columns": null,
            "grid_template_rows": null,
            "height": null,
            "justify_content": null,
            "justify_items": null,
            "left": null,
            "margin": null,
            "max_height": null,
            "max_width": null,
            "min_height": null,
            "min_width": null,
            "object_fit": null,
            "object_position": null,
            "order": null,
            "overflow": null,
            "overflow_x": null,
            "overflow_y": null,
            "padding": null,
            "right": null,
            "top": null,
            "visibility": null,
            "width": null
          }
        },
        "abdea341f4b04133b2ee4064242b9059": {
          "model_module": "@jupyter-widgets/base",
          "model_name": "LayoutModel",
          "model_module_version": "1.2.0",
          "state": {
            "_model_module": "@jupyter-widgets/base",
            "_model_module_version": "1.2.0",
            "_model_name": "LayoutModel",
            "_view_count": null,
            "_view_module": "@jupyter-widgets/base",
            "_view_module_version": "1.2.0",
            "_view_name": "LayoutView",
            "align_content": null,
            "align_items": null,
            "align_self": null,
            "border": null,
            "bottom": null,
            "display": null,
            "flex": null,
            "flex_flow": null,
            "grid_area": null,
            "grid_auto_columns": null,
            "grid_auto_flow": null,
            "grid_auto_rows": null,
            "grid_column": null,
            "grid_gap": null,
            "grid_row": null,
            "grid_template_areas": null,
            "grid_template_columns": null,
            "grid_template_rows": null,
            "height": null,
            "justify_content": null,
            "justify_items": null,
            "left": null,
            "margin": null,
            "max_height": null,
            "max_width": null,
            "min_height": null,
            "min_width": null,
            "object_fit": null,
            "object_position": null,
            "order": null,
            "overflow": null,
            "overflow_x": null,
            "overflow_y": null,
            "padding": null,
            "right": null,
            "top": null,
            "visibility": null,
            "width": null
          }
        },
        "5c032129364848b7afdc125133d20715": {
          "model_module": "@jupyter-widgets/controls",
          "model_name": "DescriptionStyleModel",
          "model_module_version": "1.5.0",
          "state": {
            "_model_module": "@jupyter-widgets/controls",
            "_model_module_version": "1.5.0",
            "_model_name": "DescriptionStyleModel",
            "_view_count": null,
            "_view_module": "@jupyter-widgets/base",
            "_view_module_version": "1.2.0",
            "_view_name": "StyleView",
            "description_width": ""
          }
        },
        "236bad9de74143b0a691d7c8b7e752ea": {
          "model_module": "@jupyter-widgets/base",
          "model_name": "LayoutModel",
          "model_module_version": "1.2.0",
          "state": {
            "_model_module": "@jupyter-widgets/base",
            "_model_module_version": "1.2.0",
            "_model_name": "LayoutModel",
            "_view_count": null,
            "_view_module": "@jupyter-widgets/base",
            "_view_module_version": "1.2.0",
            "_view_name": "LayoutView",
            "align_content": null,
            "align_items": null,
            "align_self": null,
            "border": null,
            "bottom": null,
            "display": null,
            "flex": null,
            "flex_flow": null,
            "grid_area": null,
            "grid_auto_columns": null,
            "grid_auto_flow": null,
            "grid_auto_rows": null,
            "grid_column": null,
            "grid_gap": null,
            "grid_row": null,
            "grid_template_areas": null,
            "grid_template_columns": null,
            "grid_template_rows": null,
            "height": null,
            "justify_content": null,
            "justify_items": null,
            "left": null,
            "margin": null,
            "max_height": null,
            "max_width": null,
            "min_height": null,
            "min_width": null,
            "object_fit": null,
            "object_position": null,
            "order": null,
            "overflow": null,
            "overflow_x": null,
            "overflow_y": null,
            "padding": null,
            "right": null,
            "top": null,
            "visibility": null,
            "width": null
          }
        },
        "b1f5451784ed42908c10e33e574f51e7": {
          "model_module": "@jupyter-widgets/controls",
          "model_name": "ProgressStyleModel",
          "model_module_version": "1.5.0",
          "state": {
            "_model_module": "@jupyter-widgets/controls",
            "_model_module_version": "1.5.0",
            "_model_name": "ProgressStyleModel",
            "_view_count": null,
            "_view_module": "@jupyter-widgets/base",
            "_view_module_version": "1.2.0",
            "_view_name": "StyleView",
            "bar_color": null,
            "description_width": ""
          }
        },
        "011f11b044304f708a1231bba09748b4": {
          "model_module": "@jupyter-widgets/base",
          "model_name": "LayoutModel",
          "model_module_version": "1.2.0",
          "state": {
            "_model_module": "@jupyter-widgets/base",
            "_model_module_version": "1.2.0",
            "_model_name": "LayoutModel",
            "_view_count": null,
            "_view_module": "@jupyter-widgets/base",
            "_view_module_version": "1.2.0",
            "_view_name": "LayoutView",
            "align_content": null,
            "align_items": null,
            "align_self": null,
            "border": null,
            "bottom": null,
            "display": null,
            "flex": null,
            "flex_flow": null,
            "grid_area": null,
            "grid_auto_columns": null,
            "grid_auto_flow": null,
            "grid_auto_rows": null,
            "grid_column": null,
            "grid_gap": null,
            "grid_row": null,
            "grid_template_areas": null,
            "grid_template_columns": null,
            "grid_template_rows": null,
            "height": null,
            "justify_content": null,
            "justify_items": null,
            "left": null,
            "margin": null,
            "max_height": null,
            "max_width": null,
            "min_height": null,
            "min_width": null,
            "object_fit": null,
            "object_position": null,
            "order": null,
            "overflow": null,
            "overflow_x": null,
            "overflow_y": null,
            "padding": null,
            "right": null,
            "top": null,
            "visibility": null,
            "width": null
          }
        },
        "a45c4d271fa145148b509338ad479c43": {
          "model_module": "@jupyter-widgets/controls",
          "model_name": "DescriptionStyleModel",
          "model_module_version": "1.5.0",
          "state": {
            "_model_module": "@jupyter-widgets/controls",
            "_model_module_version": "1.5.0",
            "_model_name": "DescriptionStyleModel",
            "_view_count": null,
            "_view_module": "@jupyter-widgets/base",
            "_view_module_version": "1.2.0",
            "_view_name": "StyleView",
            "description_width": ""
          }
        },
        "83b7651d958c4e8188b7b1f5648856c4": {
          "model_module": "@jupyter-widgets/controls",
          "model_name": "HBoxModel",
          "model_module_version": "1.5.0",
          "state": {
            "_dom_classes": [],
            "_model_module": "@jupyter-widgets/controls",
            "_model_module_version": "1.5.0",
            "_model_name": "HBoxModel",
            "_view_count": null,
            "_view_module": "@jupyter-widgets/controls",
            "_view_module_version": "1.5.0",
            "_view_name": "HBoxView",
            "box_style": "",
            "children": [
              "IPY_MODEL_cf9577537ddb4683bec458148351f549",
              "IPY_MODEL_c2fc67928ce440798d773dadc8b2652b",
              "IPY_MODEL_eeeebb7c0603469d942862adeb375f2d"
            ],
            "layout": "IPY_MODEL_06567a658d8945b8b61eff44f27aa519"
          }
        },
        "cf9577537ddb4683bec458148351f549": {
          "model_module": "@jupyter-widgets/controls",
          "model_name": "HTMLModel",
          "model_module_version": "1.5.0",
          "state": {
            "_dom_classes": [],
            "_model_module": "@jupyter-widgets/controls",
            "_model_module_version": "1.5.0",
            "_model_name": "HTMLModel",
            "_view_count": null,
            "_view_module": "@jupyter-widgets/controls",
            "_view_module_version": "1.5.0",
            "_view_name": "HTMLView",
            "description": "",
            "description_tooltip": null,
            "layout": "IPY_MODEL_a28fbe4c5202458b9244668b7947488b",
            "placeholder": "​",
            "style": "IPY_MODEL_140bee1e318d43cb82bf34e910ee21d3",
            "value": "100%"
          }
        },
        "c2fc67928ce440798d773dadc8b2652b": {
          "model_module": "@jupyter-widgets/controls",
          "model_name": "FloatProgressModel",
          "model_module_version": "1.5.0",
          "state": {
            "_dom_classes": [],
            "_model_module": "@jupyter-widgets/controls",
            "_model_module_version": "1.5.0",
            "_model_name": "FloatProgressModel",
            "_view_count": null,
            "_view_module": "@jupyter-widgets/controls",
            "_view_module_version": "1.5.0",
            "_view_name": "ProgressView",
            "bar_style": "success",
            "description": "",
            "description_tooltip": null,
            "layout": "IPY_MODEL_28621a75142a4e329ac2eb9fa3a67415",
            "max": 5,
            "min": 0,
            "orientation": "horizontal",
            "style": "IPY_MODEL_a35bde9dc58a49deb4a462ed91273d7b",
            "value": 5
          }
        },
        "eeeebb7c0603469d942862adeb375f2d": {
          "model_module": "@jupyter-widgets/controls",
          "model_name": "HTMLModel",
          "model_module_version": "1.5.0",
          "state": {
            "_dom_classes": [],
            "_model_module": "@jupyter-widgets/controls",
            "_model_module_version": "1.5.0",
            "_model_name": "HTMLModel",
            "_view_count": null,
            "_view_module": "@jupyter-widgets/controls",
            "_view_module_version": "1.5.0",
            "_view_name": "HTMLView",
            "description": "",
            "description_tooltip": null,
            "layout": "IPY_MODEL_3e783d9fc39b4271862f70598c6e9b9c",
            "placeholder": "​",
            "style": "IPY_MODEL_f1dfb631ef54446cb7d3e701025d378e",
            "value": " 5/5 [01:17&lt;00:00, 15.34s/it]"
          }
        },
        "06567a658d8945b8b61eff44f27aa519": {
          "model_module": "@jupyter-widgets/base",
          "model_name": "LayoutModel",
          "model_module_version": "1.2.0",
          "state": {
            "_model_module": "@jupyter-widgets/base",
            "_model_module_version": "1.2.0",
            "_model_name": "LayoutModel",
            "_view_count": null,
            "_view_module": "@jupyter-widgets/base",
            "_view_module_version": "1.2.0",
            "_view_name": "LayoutView",
            "align_content": null,
            "align_items": null,
            "align_self": null,
            "border": null,
            "bottom": null,
            "display": null,
            "flex": null,
            "flex_flow": null,
            "grid_area": null,
            "grid_auto_columns": null,
            "grid_auto_flow": null,
            "grid_auto_rows": null,
            "grid_column": null,
            "grid_gap": null,
            "grid_row": null,
            "grid_template_areas": null,
            "grid_template_columns": null,
            "grid_template_rows": null,
            "height": null,
            "justify_content": null,
            "justify_items": null,
            "left": null,
            "margin": null,
            "max_height": null,
            "max_width": null,
            "min_height": null,
            "min_width": null,
            "object_fit": null,
            "object_position": null,
            "order": null,
            "overflow": null,
            "overflow_x": null,
            "overflow_y": null,
            "padding": null,
            "right": null,
            "top": null,
            "visibility": null,
            "width": null
          }
        },
        "a28fbe4c5202458b9244668b7947488b": {
          "model_module": "@jupyter-widgets/base",
          "model_name": "LayoutModel",
          "model_module_version": "1.2.0",
          "state": {
            "_model_module": "@jupyter-widgets/base",
            "_model_module_version": "1.2.0",
            "_model_name": "LayoutModel",
            "_view_count": null,
            "_view_module": "@jupyter-widgets/base",
            "_view_module_version": "1.2.0",
            "_view_name": "LayoutView",
            "align_content": null,
            "align_items": null,
            "align_self": null,
            "border": null,
            "bottom": null,
            "display": null,
            "flex": null,
            "flex_flow": null,
            "grid_area": null,
            "grid_auto_columns": null,
            "grid_auto_flow": null,
            "grid_auto_rows": null,
            "grid_column": null,
            "grid_gap": null,
            "grid_row": null,
            "grid_template_areas": null,
            "grid_template_columns": null,
            "grid_template_rows": null,
            "height": null,
            "justify_content": null,
            "justify_items": null,
            "left": null,
            "margin": null,
            "max_height": null,
            "max_width": null,
            "min_height": null,
            "min_width": null,
            "object_fit": null,
            "object_position": null,
            "order": null,
            "overflow": null,
            "overflow_x": null,
            "overflow_y": null,
            "padding": null,
            "right": null,
            "top": null,
            "visibility": null,
            "width": null
          }
        },
        "140bee1e318d43cb82bf34e910ee21d3": {
          "model_module": "@jupyter-widgets/controls",
          "model_name": "DescriptionStyleModel",
          "model_module_version": "1.5.0",
          "state": {
            "_model_module": "@jupyter-widgets/controls",
            "_model_module_version": "1.5.0",
            "_model_name": "DescriptionStyleModel",
            "_view_count": null,
            "_view_module": "@jupyter-widgets/base",
            "_view_module_version": "1.2.0",
            "_view_name": "StyleView",
            "description_width": ""
          }
        },
        "28621a75142a4e329ac2eb9fa3a67415": {
          "model_module": "@jupyter-widgets/base",
          "model_name": "LayoutModel",
          "model_module_version": "1.2.0",
          "state": {
            "_model_module": "@jupyter-widgets/base",
            "_model_module_version": "1.2.0",
            "_model_name": "LayoutModel",
            "_view_count": null,
            "_view_module": "@jupyter-widgets/base",
            "_view_module_version": "1.2.0",
            "_view_name": "LayoutView",
            "align_content": null,
            "align_items": null,
            "align_self": null,
            "border": null,
            "bottom": null,
            "display": null,
            "flex": null,
            "flex_flow": null,
            "grid_area": null,
            "grid_auto_columns": null,
            "grid_auto_flow": null,
            "grid_auto_rows": null,
            "grid_column": null,
            "grid_gap": null,
            "grid_row": null,
            "grid_template_areas": null,
            "grid_template_columns": null,
            "grid_template_rows": null,
            "height": null,
            "justify_content": null,
            "justify_items": null,
            "left": null,
            "margin": null,
            "max_height": null,
            "max_width": null,
            "min_height": null,
            "min_width": null,
            "object_fit": null,
            "object_position": null,
            "order": null,
            "overflow": null,
            "overflow_x": null,
            "overflow_y": null,
            "padding": null,
            "right": null,
            "top": null,
            "visibility": null,
            "width": null
          }
        },
        "a35bde9dc58a49deb4a462ed91273d7b": {
          "model_module": "@jupyter-widgets/controls",
          "model_name": "ProgressStyleModel",
          "model_module_version": "1.5.0",
          "state": {
            "_model_module": "@jupyter-widgets/controls",
            "_model_module_version": "1.5.0",
            "_model_name": "ProgressStyleModel",
            "_view_count": null,
            "_view_module": "@jupyter-widgets/base",
            "_view_module_version": "1.2.0",
            "_view_name": "StyleView",
            "bar_color": null,
            "description_width": ""
          }
        },
        "3e783d9fc39b4271862f70598c6e9b9c": {
          "model_module": "@jupyter-widgets/base",
          "model_name": "LayoutModel",
          "model_module_version": "1.2.0",
          "state": {
            "_model_module": "@jupyter-widgets/base",
            "_model_module_version": "1.2.0",
            "_model_name": "LayoutModel",
            "_view_count": null,
            "_view_module": "@jupyter-widgets/base",
            "_view_module_version": "1.2.0",
            "_view_name": "LayoutView",
            "align_content": null,
            "align_items": null,
            "align_self": null,
            "border": null,
            "bottom": null,
            "display": null,
            "flex": null,
            "flex_flow": null,
            "grid_area": null,
            "grid_auto_columns": null,
            "grid_auto_flow": null,
            "grid_auto_rows": null,
            "grid_column": null,
            "grid_gap": null,
            "grid_row": null,
            "grid_template_areas": null,
            "grid_template_columns": null,
            "grid_template_rows": null,
            "height": null,
            "justify_content": null,
            "justify_items": null,
            "left": null,
            "margin": null,
            "max_height": null,
            "max_width": null,
            "min_height": null,
            "min_width": null,
            "object_fit": null,
            "object_position": null,
            "order": null,
            "overflow": null,
            "overflow_x": null,
            "overflow_y": null,
            "padding": null,
            "right": null,
            "top": null,
            "visibility": null,
            "width": null
          }
        },
        "f1dfb631ef54446cb7d3e701025d378e": {
          "model_module": "@jupyter-widgets/controls",
          "model_name": "DescriptionStyleModel",
          "model_module_version": "1.5.0",
          "state": {
            "_model_module": "@jupyter-widgets/controls",
            "_model_module_version": "1.5.0",
            "_model_name": "DescriptionStyleModel",
            "_view_count": null,
            "_view_module": "@jupyter-widgets/base",
            "_view_module_version": "1.2.0",
            "_view_name": "StyleView",
            "description_width": ""
          }
        },
        "7eaa3e9a198e4a798732e9233a2d21c2": {
          "model_module": "@jupyter-widgets/controls",
          "model_name": "HBoxModel",
          "model_module_version": "1.5.0",
          "state": {
            "_dom_classes": [],
            "_model_module": "@jupyter-widgets/controls",
            "_model_module_version": "1.5.0",
            "_model_name": "HBoxModel",
            "_view_count": null,
            "_view_module": "@jupyter-widgets/controls",
            "_view_module_version": "1.5.0",
            "_view_name": "HBoxView",
            "box_style": "",
            "children": [
              "IPY_MODEL_d790ec96bb214bcbbebfda9d2ec34c23",
              "IPY_MODEL_3fd2cd2db1f04aea998fafd5442afd82",
              "IPY_MODEL_646f52d4c4574c5ea2695a6a2babbfda"
            ],
            "layout": "IPY_MODEL_5d42aba0a3af4347a4815f36b19ca0db"
          }
        },
        "d790ec96bb214bcbbebfda9d2ec34c23": {
          "model_module": "@jupyter-widgets/controls",
          "model_name": "HTMLModel",
          "model_module_version": "1.5.0",
          "state": {
            "_dom_classes": [],
            "_model_module": "@jupyter-widgets/controls",
            "_model_module_version": "1.5.0",
            "_model_name": "HTMLModel",
            "_view_count": null,
            "_view_module": "@jupyter-widgets/controls",
            "_view_module_version": "1.5.0",
            "_view_name": "HTMLView",
            "description": "",
            "description_tooltip": null,
            "layout": "IPY_MODEL_c5c5eef69e9b4398884fe301a5df5f68",
            "placeholder": "​",
            "style": "IPY_MODEL_97fbea71ce5e49789201f2fcb0daf9f2",
            "value": "Making predictions....: 100%"
          }
        },
        "3fd2cd2db1f04aea998fafd5442afd82": {
          "model_module": "@jupyter-widgets/controls",
          "model_name": "FloatProgressModel",
          "model_module_version": "1.5.0",
          "state": {
            "_dom_classes": [],
            "_model_module": "@jupyter-widgets/controls",
            "_model_module_version": "1.5.0",
            "_model_name": "FloatProgressModel",
            "_view_count": null,
            "_view_module": "@jupyter-widgets/controls",
            "_view_module_version": "1.5.0",
            "_view_name": "ProgressView",
            "bar_style": "success",
            "description": "",
            "description_tooltip": null,
            "layout": "IPY_MODEL_d7c7fc6fe64d4417b79a587662cd8558",
            "max": 20,
            "min": 0,
            "orientation": "horizontal",
            "style": "IPY_MODEL_43eba8ff22784c548a728a2890dea7bb",
            "value": 20
          }
        },
        "646f52d4c4574c5ea2695a6a2babbfda": {
          "model_module": "@jupyter-widgets/controls",
          "model_name": "HTMLModel",
          "model_module_version": "1.5.0",
          "state": {
            "_dom_classes": [],
            "_model_module": "@jupyter-widgets/controls",
            "_model_module_version": "1.5.0",
            "_model_name": "HTMLModel",
            "_view_count": null,
            "_view_module": "@jupyter-widgets/controls",
            "_view_module_version": "1.5.0",
            "_view_name": "HTMLView",
            "description": "",
            "description_tooltip": null,
            "layout": "IPY_MODEL_f3ba8ed181674d7383485f919ec61e96",
            "placeholder": "​",
            "style": "IPY_MODEL_4c46146eec1144e6b79c534767926621",
            "value": " 20/20 [00:00&lt;00:00, 458.53it/s]"
          }
        },
        "5d42aba0a3af4347a4815f36b19ca0db": {
          "model_module": "@jupyter-widgets/base",
          "model_name": "LayoutModel",
          "model_module_version": "1.2.0",
          "state": {
            "_model_module": "@jupyter-widgets/base",
            "_model_module_version": "1.2.0",
            "_model_name": "LayoutModel",
            "_view_count": null,
            "_view_module": "@jupyter-widgets/base",
            "_view_module_version": "1.2.0",
            "_view_name": "LayoutView",
            "align_content": null,
            "align_items": null,
            "align_self": null,
            "border": null,
            "bottom": null,
            "display": null,
            "flex": null,
            "flex_flow": null,
            "grid_area": null,
            "grid_auto_columns": null,
            "grid_auto_flow": null,
            "grid_auto_rows": null,
            "grid_column": null,
            "grid_gap": null,
            "grid_row": null,
            "grid_template_areas": null,
            "grid_template_columns": null,
            "grid_template_rows": null,
            "height": null,
            "justify_content": null,
            "justify_items": null,
            "left": null,
            "margin": null,
            "max_height": null,
            "max_width": null,
            "min_height": null,
            "min_width": null,
            "object_fit": null,
            "object_position": null,
            "order": null,
            "overflow": null,
            "overflow_x": null,
            "overflow_y": null,
            "padding": null,
            "right": null,
            "top": null,
            "visibility": null,
            "width": null
          }
        },
        "c5c5eef69e9b4398884fe301a5df5f68": {
          "model_module": "@jupyter-widgets/base",
          "model_name": "LayoutModel",
          "model_module_version": "1.2.0",
          "state": {
            "_model_module": "@jupyter-widgets/base",
            "_model_module_version": "1.2.0",
            "_model_name": "LayoutModel",
            "_view_count": null,
            "_view_module": "@jupyter-widgets/base",
            "_view_module_version": "1.2.0",
            "_view_name": "LayoutView",
            "align_content": null,
            "align_items": null,
            "align_self": null,
            "border": null,
            "bottom": null,
            "display": null,
            "flex": null,
            "flex_flow": null,
            "grid_area": null,
            "grid_auto_columns": null,
            "grid_auto_flow": null,
            "grid_auto_rows": null,
            "grid_column": null,
            "grid_gap": null,
            "grid_row": null,
            "grid_template_areas": null,
            "grid_template_columns": null,
            "grid_template_rows": null,
            "height": null,
            "justify_content": null,
            "justify_items": null,
            "left": null,
            "margin": null,
            "max_height": null,
            "max_width": null,
            "min_height": null,
            "min_width": null,
            "object_fit": null,
            "object_position": null,
            "order": null,
            "overflow": null,
            "overflow_x": null,
            "overflow_y": null,
            "padding": null,
            "right": null,
            "top": null,
            "visibility": null,
            "width": null
          }
        },
        "97fbea71ce5e49789201f2fcb0daf9f2": {
          "model_module": "@jupyter-widgets/controls",
          "model_name": "DescriptionStyleModel",
          "model_module_version": "1.5.0",
          "state": {
            "_model_module": "@jupyter-widgets/controls",
            "_model_module_version": "1.5.0",
            "_model_name": "DescriptionStyleModel",
            "_view_count": null,
            "_view_module": "@jupyter-widgets/base",
            "_view_module_version": "1.2.0",
            "_view_name": "StyleView",
            "description_width": ""
          }
        },
        "d7c7fc6fe64d4417b79a587662cd8558": {
          "model_module": "@jupyter-widgets/base",
          "model_name": "LayoutModel",
          "model_module_version": "1.2.0",
          "state": {
            "_model_module": "@jupyter-widgets/base",
            "_model_module_version": "1.2.0",
            "_model_name": "LayoutModel",
            "_view_count": null,
            "_view_module": "@jupyter-widgets/base",
            "_view_module_version": "1.2.0",
            "_view_name": "LayoutView",
            "align_content": null,
            "align_items": null,
            "align_self": null,
            "border": null,
            "bottom": null,
            "display": null,
            "flex": null,
            "flex_flow": null,
            "grid_area": null,
            "grid_auto_columns": null,
            "grid_auto_flow": null,
            "grid_auto_rows": null,
            "grid_column": null,
            "grid_gap": null,
            "grid_row": null,
            "grid_template_areas": null,
            "grid_template_columns": null,
            "grid_template_rows": null,
            "height": null,
            "justify_content": null,
            "justify_items": null,
            "left": null,
            "margin": null,
            "max_height": null,
            "max_width": null,
            "min_height": null,
            "min_width": null,
            "object_fit": null,
            "object_position": null,
            "order": null,
            "overflow": null,
            "overflow_x": null,
            "overflow_y": null,
            "padding": null,
            "right": null,
            "top": null,
            "visibility": null,
            "width": null
          }
        },
        "43eba8ff22784c548a728a2890dea7bb": {
          "model_module": "@jupyter-widgets/controls",
          "model_name": "ProgressStyleModel",
          "model_module_version": "1.5.0",
          "state": {
            "_model_module": "@jupyter-widgets/controls",
            "_model_module_version": "1.5.0",
            "_model_name": "ProgressStyleModel",
            "_view_count": null,
            "_view_module": "@jupyter-widgets/base",
            "_view_module_version": "1.2.0",
            "_view_name": "StyleView",
            "bar_color": null,
            "description_width": ""
          }
        },
        "f3ba8ed181674d7383485f919ec61e96": {
          "model_module": "@jupyter-widgets/base",
          "model_name": "LayoutModel",
          "model_module_version": "1.2.0",
          "state": {
            "_model_module": "@jupyter-widgets/base",
            "_model_module_version": "1.2.0",
            "_model_name": "LayoutModel",
            "_view_count": null,
            "_view_module": "@jupyter-widgets/base",
            "_view_module_version": "1.2.0",
            "_view_name": "LayoutView",
            "align_content": null,
            "align_items": null,
            "align_self": null,
            "border": null,
            "bottom": null,
            "display": null,
            "flex": null,
            "flex_flow": null,
            "grid_area": null,
            "grid_auto_columns": null,
            "grid_auto_flow": null,
            "grid_auto_rows": null,
            "grid_column": null,
            "grid_gap": null,
            "grid_row": null,
            "grid_template_areas": null,
            "grid_template_columns": null,
            "grid_template_rows": null,
            "height": null,
            "justify_content": null,
            "justify_items": null,
            "left": null,
            "margin": null,
            "max_height": null,
            "max_width": null,
            "min_height": null,
            "min_width": null,
            "object_fit": null,
            "object_position": null,
            "order": null,
            "overflow": null,
            "overflow_x": null,
            "overflow_y": null,
            "padding": null,
            "right": null,
            "top": null,
            "visibility": null,
            "width": null
          }
        },
        "4c46146eec1144e6b79c534767926621": {
          "model_module": "@jupyter-widgets/controls",
          "model_name": "DescriptionStyleModel",
          "model_module_version": "1.5.0",
          "state": {
            "_model_module": "@jupyter-widgets/controls",
            "_model_module_version": "1.5.0",
            "_model_name": "DescriptionStyleModel",
            "_view_count": null,
            "_view_module": "@jupyter-widgets/base",
            "_view_module_version": "1.2.0",
            "_view_name": "StyleView",
            "description_width": ""
          }
        }
      }
    }
  },
  "cells": [
    {
      "cell_type": "markdown",
      "metadata": {
        "id": "view-in-github",
        "colab_type": "text"
      },
      "source": [
        "<a href=\"https://colab.research.google.com/github/AishaEvering/PyTorch_Exercises/blob/main/03_pytorch_computer_vision_exercises.ipynb\" target=\"_parent\"><img src=\"https://colab.research.google.com/assets/colab-badge.svg\" alt=\"Open In Colab\"/></a>"
      ]
    },
    {
      "cell_type": "markdown",
      "source": [
        "# 03. PyTorch Computer Vision Exercises\n",
        "\n",
        "The following is a collection of exercises based on computer vision fundamentals in PyTorch.\n",
        "\n",
        "They're a bunch of fun.\n",
        "\n",
        "You're going to get to write plenty of code!\n",
        "\n",
        "## Resources\n",
        "\n",
        "1. These exercises are based on [notebook 03 of the Learn PyTorch for Deep Learning course](https://www.learnpytorch.io/03_pytorch_computer_vision/).\n",
        "2. See a live [walkthrough of the solutions (errors and all) on YouTube](https://youtu.be/_PibmqpEyhA).\n",
        "  * **Note:** Going through these exercises took me just over 3 hours of solid coding, so you should expect around the same.\n",
        "3. See [other solutions on the course GitHub](https://github.com/mrdbourke/pytorch-deep-learning/tree/main/extras/solutions)."
      ],
      "metadata": {
        "id": "Vex99np2wFVt"
      }
    },
    {
      "cell_type": "code",
      "source": [
        "# Check for GPU\n",
        "!nvidia-smi"
      ],
      "metadata": {
        "colab": {
          "base_uri": "https://localhost:8080/"
        },
        "id": "GaeYzOTLwWh2",
        "outputId": "c7527f5e-58cc-4dee-a583-f83cb7f55d4d"
      },
      "execution_count": 149,
      "outputs": [
        {
          "output_type": "stream",
          "name": "stdout",
          "text": [
            "Mon Apr 29 22:12:16 2024       \n",
            "+---------------------------------------------------------------------------------------+\n",
            "| NVIDIA-SMI 535.104.05             Driver Version: 535.104.05   CUDA Version: 12.2     |\n",
            "|-----------------------------------------+----------------------+----------------------+\n",
            "| GPU  Name                 Persistence-M | Bus-Id        Disp.A | Volatile Uncorr. ECC |\n",
            "| Fan  Temp   Perf          Pwr:Usage/Cap |         Memory-Usage | GPU-Util  Compute M. |\n",
            "|                                         |                      |               MIG M. |\n",
            "|=========================================+======================+======================|\n",
            "|   0  Tesla T4                       Off | 00000000:00:04.0 Off |                    0 |\n",
            "| N/A   59C    P0              29W /  70W |    193MiB / 15360MiB |      0%      Default |\n",
            "|                                         |                      |                  N/A |\n",
            "+-----------------------------------------+----------------------+----------------------+\n",
            "                                                                                         \n",
            "+---------------------------------------------------------------------------------------+\n",
            "| Processes:                                                                            |\n",
            "|  GPU   GI   CI        PID   Type   Process name                            GPU Memory |\n",
            "|        ID   ID                                                             Usage      |\n",
            "|=======================================================================================|\n",
            "+---------------------------------------------------------------------------------------+\n"
          ]
        }
      ]
    },
    {
      "cell_type": "code",
      "source": [
        "# Import torch\n",
        "import torch\n",
        "\n",
        "# Exercises require PyTorch > 1.10.0\n",
        "print(torch.__version__)\n",
        "\n",
        "# TODO: Setup device agnostic code\n",
        "device = \"cuda\" if torch.cuda.is_available() else \"cpu\"\n",
        "device"
      ],
      "metadata": {
        "colab": {
          "base_uri": "https://localhost:8080/",
          "height": 53
        },
        "id": "DNwZLMbCzJLk",
        "outputId": "ac0351a6-9208-4a45-b169-2b343f252c93"
      },
      "execution_count": 150,
      "outputs": [
        {
          "output_type": "stream",
          "name": "stdout",
          "text": [
            "2.2.1+cu121\n"
          ]
        },
        {
          "output_type": "execute_result",
          "data": {
            "text/plain": [
              "'cuda'"
            ],
            "application/vnd.google.colaboratory.intrinsic+json": {
              "type": "string"
            }
          },
          "metadata": {},
          "execution_count": 150
        }
      ]
    },
    {
      "cell_type": "markdown",
      "source": [
        "## 1. What are 3 areas in industry where computer vision is currently being used?"
      ],
      "metadata": {
        "id": "FSFX7tc1w-en"
      }
    },
    {
      "cell_type": "markdown",
      "source": [
        "*   Autonomous vehicles\n",
        "  * Helps vehicles detect and recognize traffic lights, signs, pedestrians, lanes, and other vehicles to enable safe driving\n",
        "*   Healthcare\n",
        "  * Medical image analysis helps medical professionals make faster and more accurate diagnoses by creating visualizations of organs and tissues.\n",
        "* Agriculture\n",
        "  * Helps with farming aids, crop coverage, yield mapping, disease detection, and harvesting\n",
        "\n"
      ],
      "metadata": {
        "id": "VyWRkvWGbCXj"
      }
    },
    {
      "cell_type": "markdown",
      "source": [
        "## 2. Search \"what is overfitting in machine learning\" and write down a sentence about what you find."
      ],
      "metadata": {
        "id": "oBK-WI6YxDYa"
      }
    },
    {
      "cell_type": "markdown",
      "source": [
        "- Overfitting is when a model learns the training data too well, including its noise and outliers, resulting in poor performance on unseen data.\n",
        "- Underfitting is when a model is too simple to learn the underlying patterns in the training data, resulting in poor performance on training data and unseen data."
      ],
      "metadata": {
        "id": "d1rxD6GObCqh"
      }
    },
    {
      "cell_type": "markdown",
      "source": [
        "## 3. Search \"ways to prevent overfitting in machine learning\", write down 3 of the things you find and a sentence about each.\n",
        "> **Note:** there are lots of these, so don't worry too much about all of them, just pick 3 and start with those."
      ],
      "metadata": {
        "id": "XeYFEqw8xK26"
      }
    },
    {
      "cell_type": "markdown",
      "source": [
        "\n",
        "\n",
        "*   Early Stopping: Stop the training process before the model starts capturing noise from the data.\n",
        "*   Cross-Validation: a technique for evaluating ML models by training several ML models on subsets of the available input and evaluating them on the complementray subset of the data.\n",
        "*   Regularization: a group of methods that forces the learning algorithms to make a model simpler.  Applying the regularization technique may slightly increase the bias but slightly reduces the variance. In this technique, we modify the objective function by adding the penalizing term, which has a higher value with a more complex model.\n",
        "\n"
      ],
      "metadata": {
        "id": "ocvOdWKcbEKr"
      }
    },
    {
      "cell_type": "markdown",
      "source": [
        "## 4. Spend 20-minutes reading and clicking through the [CNN Explainer website](https://poloclub.github.io/cnn-explainer/).\n",
        "\n",
        "* Upload your own example image using the \"upload\" button on the website and see what happens in each layer of a CNN as your image passes through it."
      ],
      "metadata": {
        "id": "DKdEEFEqxM-8"
      }
    },
    {
      "cell_type": "code",
      "source": [],
      "metadata": {
        "id": "TqZaJIRMbFtS"
      },
      "execution_count": 150,
      "outputs": []
    },
    {
      "cell_type": "markdown",
      "source": [
        "## 5. Load the [`torchvision.datasets.MNIST()`](https://pytorch.org/vision/stable/generated/torchvision.datasets.MNIST.html#torchvision.datasets.MNIST) train and test datasets."
      ],
      "metadata": {
        "id": "lvf-3pODxXYI"
      }
    },
    {
      "cell_type": "code",
      "source": [
        "from torch import nn\n",
        "\n",
        "# Import torchvision\n",
        "import torchvision\n",
        "from torchvision import datasets\n",
        "from torchvision import transforms\n",
        "from torchvision.transforms import ToTensor\n",
        "\n",
        "import matplotlib.pyplot as plt"
      ],
      "metadata": {
        "id": "PiE_NntfJvGO"
      },
      "execution_count": 151,
      "outputs": []
    },
    {
      "cell_type": "code",
      "source": [
        "train_data = datasets.MNIST(\n",
        "    root=\"data\",\n",
        "    train=True,\n",
        "    download=True,\n",
        "    transform=ToTensor(),\n",
        "    target_transform=None,\n",
        ")\n",
        "\n",
        "test_data = datasets.MNIST(\n",
        "    root=\"data\",\n",
        "    train=False,\n",
        "    download=True,\n",
        "    transform=ToTensor(),\n",
        "    target_transform=None,\n",
        ")\n",
        "\n",
        "print(f\"Train Data Len: {len(train_data)}, Test Data Len: {len(test_data)}\")"
      ],
      "metadata": {
        "id": "SHjeuN81bHza",
        "colab": {
          "base_uri": "https://localhost:8080/"
        },
        "outputId": "bb35de3b-fdc9-443f-a599-f4d1c7e09ccc"
      },
      "execution_count": 152,
      "outputs": [
        {
          "output_type": "stream",
          "name": "stdout",
          "text": [
            "Train Data Len: 60000, Test Data Len: 10000\n"
          ]
        }
      ]
    },
    {
      "cell_type": "code",
      "source": [
        "img, lbl = train_data[0]\n",
        "img.shape, lbl"
      ],
      "metadata": {
        "colab": {
          "base_uri": "https://localhost:8080/"
        },
        "id": "tgdlvHbgNlg0",
        "outputId": "8903d9fd-44ca-499f-d1d5-0805f6ea67df"
      },
      "execution_count": 153,
      "outputs": [
        {
          "output_type": "execute_result",
          "data": {
            "text/plain": [
              "(torch.Size([1, 28, 28]), 5)"
            ]
          },
          "metadata": {},
          "execution_count": 153
        }
      ]
    },
    {
      "cell_type": "markdown",
      "source": [
        "## 6. Visualize at least 5 different samples of the MNIST training dataset."
      ],
      "metadata": {
        "id": "qxZW-uAbxe_F"
      }
    },
    {
      "cell_type": "code",
      "source": [
        "class_names = train_data.classes\n",
        "class_names, type(train_data)"
      ],
      "metadata": {
        "id": "QVFsYi1PbItE",
        "colab": {
          "base_uri": "https://localhost:8080/"
        },
        "outputId": "1e4be206-a27d-4bcd-b49f-4d28c57f52a4"
      },
      "execution_count": 154,
      "outputs": [
        {
          "output_type": "execute_result",
          "data": {
            "text/plain": [
              "(['0 - zero',\n",
              "  '1 - one',\n",
              "  '2 - two',\n",
              "  '3 - three',\n",
              "  '4 - four',\n",
              "  '5 - five',\n",
              "  '6 - six',\n",
              "  '7 - seven',\n",
              "  '8 - eight',\n",
              "  '9 - nine'],\n",
              " torchvision.datasets.mnist.MNIST)"
            ]
          },
          "metadata": {},
          "execution_count": 154
        }
      ]
    },
    {
      "cell_type": "code",
      "source": [
        "torch.manual_seed(42)\n",
        "\n",
        "fig = plt.figure(figsize=(7,7))\n",
        "\n",
        "rows, cols = 3, 3\n",
        "\n",
        "for i in range(1, rows * cols + 1):\n",
        "\n",
        "  random_idx = torch.randint(0, len(train_data), size=[1]).item()\n",
        "\n",
        "  image, label = train_data[random_idx]\n",
        "\n",
        "  fig.add_subplot(rows, cols, i)\n",
        "  plt.imshow(image.squeeze(), cmap=\"gray\") # removing the color channel dimension, it's in the wrong place\n",
        "  plt.title(f\"{class_names[label]}\")\n",
        "  plt.axis(False);"
      ],
      "metadata": {
        "colab": {
          "base_uri": "https://localhost:8080/",
          "height": 598
        },
        "id": "k92a418nJa2a",
        "outputId": "e1c8e5f7-e9da-4f6d-86d3-e2479fba9454"
      },
      "execution_count": 155,
      "outputs": [
        {
          "output_type": "display_data",
          "data": {
            "text/plain": [
              "<Figure size 700x700 with 9 Axes>"
            ],
            "image/png": "[encoded data removed]"
          },
          "metadata": {}
        }
      ]
    },
    {
      "cell_type": "markdown",
      "source": [
        "## 7. Turn the MNIST train and test datasets into dataloaders using `torch.utils.data.DataLoader`, set the `batch_size=32`."
      ],
      "metadata": {
        "id": "JAPDzW0wxhi3"
      }
    },
    {
      "cell_type": "code",
      "source": [
        "from torch.utils.data import DataLoader\n",
        "\n",
        "BATCH_SIZE = 32\n",
        "\n",
        "train_dataloader = DataLoader(dataset=train_data,\n",
        "                              batch_size = BATCH_SIZE,\n",
        "                              shuffle=True)\n",
        "\n",
        "test_dataloader = DataLoader(dataset=test_data,\n",
        "                             batch_size=BATCH_SIZE,\n",
        "                             shuffle=False)\n",
        "\n",
        "train_dataloader, test_dataloader"
      ],
      "metadata": {
        "id": "ALA6MPcFbJXQ",
        "colab": {
          "base_uri": "https://localhost:8080/"
        },
        "outputId": "77b1b958-1bd2-450a-e24b-41ca5bc77586"
      },
      "execution_count": 156,
      "outputs": [
        {
          "output_type": "execute_result",
          "data": {
            "text/plain": [
              "(<torch.utils.data.dataloader.DataLoader at 0x7d22f08bc2b0>,\n",
              " <torch.utils.data.dataloader.DataLoader at 0x7d22f08bd4e0>)"
            ]
          },
          "metadata": {},
          "execution_count": 156
        }
      ]
    },
    {
      "cell_type": "markdown",
      "source": [
        "## 8. Recreate `model_2` used in notebook 03 (the same model from the [CNN Explainer website](https://poloclub.github.io/cnn-explainer/), also known as TinyVGG) capable of fitting on the MNIST dataset."
      ],
      "metadata": {
        "id": "bCCVfXk5xjYS"
      }
    },
    {
      "cell_type": "code",
      "source": [
        "# recreating TinyVGG\n",
        "class MNISTModelV0(nn.Module):\n",
        "  '''\n",
        "    Model that replicates the TinyVGG model from the CNN explainer website\n",
        "    https://poloclub.github.io/cnn-explainer/\n",
        "  '''\n",
        "\n",
        "  def __init__(self, input_shape: int, hidden_units: int, output_shape: int):\n",
        "    super().__init__()\n",
        "\n",
        "    self.conv_block_1 = nn.Sequential(\n",
        "        nn.Conv2d(in_channels=input_shape, out_channels=hidden_units,\n",
        "                  kernel_size=3, stride=1, padding=1),\n",
        "        nn.ReLU(),\n",
        "        nn.Conv2d(in_channels=hidden_units, out_channels=hidden_units,\n",
        "                  kernel_size=3, stride=1, padding=1),\n",
        "        nn.ReLU(),\n",
        "        nn.MaxPool2d(kernel_size=2)\n",
        "    )\n",
        "\n",
        "    self.conv_block_2 = nn.Sequential(\n",
        "        nn.Conv2d(in_channels=hidden_units, out_channels=hidden_units,\n",
        "                  kernel_size=3, stride=1, padding=1),\n",
        "        nn.ReLU(),\n",
        "        nn.Conv2d(in_channels=hidden_units, out_channels=hidden_units,\n",
        "                  kernel_size=3, stride=1, padding=1),\n",
        "        nn.ReLU(),\n",
        "        nn.MaxPool2d(kernel_size=2)\n",
        "    )\n",
        "\n",
        "    self.classifier = nn.Sequential(\n",
        "        nn.Flatten(),\n",
        "        nn.Linear(in_features=hidden_units*7*7,\n",
        "                  out_features=output_shape)\n",
        "    )\n",
        "\n",
        "  def forward(self, x: torch.Tensor):\n",
        "    x = self.conv_block_1(x)\n",
        "    #print(f'Conv Block 1 Output: {x.shape}')\n",
        "    x = self.conv_block_2(x)\n",
        "    #print(f'Conv Block 2 Output: {x.shape}')\n",
        "    x = self.classifier(x)\n",
        "    #print(f'Classifier Output: {x.shape}')\n",
        "    return x"
      ],
      "metadata": {
        "id": "5IKNF22XbKYS"
      },
      "execution_count": 157,
      "outputs": []
    },
    {
      "cell_type": "code",
      "source": [
        "model = MNISTModelV0(input_shape=1,\n",
        "                      hidden_units=10,\n",
        "                      output_shape=len(class_names))"
      ],
      "metadata": {
        "id": "n5BqRcg-24xc"
      },
      "execution_count": 158,
      "outputs": []
    },
    {
      "cell_type": "code",
      "source": [
        "# attempt to run rand dummy image through model to look at the output shapes\n",
        "#rand_image_tensor = torch.randn(size=(1,28,28))\n",
        "#model0(rand_image_tensor.to(device))"
      ],
      "metadata": {
        "id": "CmmjPglqXvOQ"
      },
      "execution_count": 159,
      "outputs": []
    },
    {
      "cell_type": "markdown",
      "source": [
        "## 9. Train the model you built in exercise 8. for 5 epochs on CPU and GPU and see how long it takes on each."
      ],
      "metadata": {
        "id": "sf_3zUr7xlhy"
      }
    },
    {
      "cell_type": "code",
      "source": [
        "try:\n",
        "  import torchmetrics\n",
        "  from torchmetrics.classification import MulticlassAccuracy\n",
        "  print(f\"torchmetrics ver: {torchmetrics.__version__}\")\n",
        "except:\n",
        "  !pip install -q torchmetrics -U mlxtend\n",
        "  import torchmetrics\n",
        "  from torchmetrics.classification import MulticlassAccuracy\n",
        "  print(f\"torchmetrics ver: {torchmetrics.__version__}\")"
      ],
      "metadata": {
        "colab": {
          "base_uri": "https://localhost:8080/"
        },
        "id": "X_rpsK2gPJL4",
        "outputId": "b9065b1b-7ec0-4d6b-fefc-2dd69494df6a"
      },
      "execution_count": 238,
      "outputs": [
        {
          "output_type": "stream",
          "name": "stdout",
          "text": [
            "torchmetrics ver: 1.3.2\n"
          ]
        }
      ]
    },
    {
      "cell_type": "code",
      "source": [
        "from timeit import default_timer as timer\n",
        "\n",
        "def print_train_time(start: float, end: float, device: torch.device = None):\n",
        "  '''\n",
        "  Prints difference between start and end time\n",
        "  '''\n",
        "\n",
        "  total_time = end - start\n",
        "\n",
        "  print(f\"Train time on {device}: {total_time:.3f} seconds\")\n",
        "\n",
        "  return total_time"
      ],
      "metadata": {
        "id": "_h51XGcgk-yn"
      },
      "execution_count": 160,
      "outputs": []
    },
    {
      "cell_type": "code",
      "source": [
        "def train_step(model: nn.Module, loss_fn: nn.Module, accuracy_fn,\n",
        "               optimizer: torch.optim.Optimizer,\n",
        "               data_loader: torch.utils.data.DataLoader,\n",
        "               device: torch.device=device):\n",
        "  '''\n",
        "  Performs training step with model\n",
        "  '''\n",
        "\n",
        "  train_loss, train_acc = 0, 0\n",
        "\n",
        "  # set training mode\n",
        "  model.train()\n",
        "\n",
        "  # loop through batches\n",
        "  for X, y in data_loader:\n",
        "\n",
        "    # put data in target device\n",
        "    X, y = X.to(device), y.to(device)\n",
        "\n",
        "    # forward pass\n",
        "    y_logits = model(X)\n",
        "\n",
        "    # calculate loss\n",
        "    loss = loss_fn(y_logits, y)\n",
        "    train_loss += loss # accumulate train loss\n",
        "\n",
        "    # calculate accuracy\n",
        "    train_acc += accuracy_fn(torch.softmax(y_logits.squeeze(), dim=0).argmax(dim=1), y)\n",
        "\n",
        "    optimizer.zero_grad()\n",
        "\n",
        "    # backward pass\n",
        "    loss.backward()\n",
        "\n",
        "    # gradient descent\n",
        "    optimizer.step()\n",
        "\n",
        "  # device total train loss and accuracy by length of train dataloader\n",
        "  train_loss /= len(data_loader)\n",
        "  train_acc /= len(data_loader)\n",
        "\n",
        "  print(f\"\\nTrain loss: {train_loss:.5f} | Train acc: {train_acc:.2f}%\")"
      ],
      "metadata": {
        "id": "_XKC0hOdebes"
      },
      "execution_count": 242,
      "outputs": []
    },
    {
      "cell_type": "code",
      "source": [
        "def test_step(model: nn.Module, loss_fn: nn.Module, accuracy_fn,\n",
        "              data_loader: torch.utils.data.DataLoader, device: torch.device = device):\n",
        "\n",
        "  '''\n",
        "  Performs testing step with model\n",
        "  '''\n",
        "  loss, acc = 0, 0\n",
        "\n",
        "  # put model in eval mode\n",
        "  model.eval()\n",
        "\n",
        "  # turn on inference mode\n",
        "  with torch.inference_mode():\n",
        "\n",
        "    # for each batch\n",
        "    for X, y in data_loader:\n",
        "\n",
        "      # put data in target device\n",
        "      X, y = X.to(device), y.to(device)\n",
        "\n",
        "      # foward pass\n",
        "      y_logits = model(X)\n",
        "\n",
        "      # calculate loss\n",
        "      loss += loss_fn(y_logits, y)\n",
        "\n",
        "      # calculate accuracy\n",
        "      acc += accuracy_fn(torch.softmax(y_logits.squeeze(), dim=0).argmax(dim=1), y)\n",
        "\n",
        "    # calculate the test loss on average\n",
        "    loss /= len(data_loader)\n",
        "\n",
        "    # calculate the test accuracy on average\n",
        "    acc /= len(data_loader)\n",
        "\n",
        "    print(f\"\\nTest Loss: {loss:.5f} | Test acc: {acc:.2f}%\")"
      ],
      "metadata": {
        "id": "YKodL848hWC9"
      },
      "execution_count": 243,
      "outputs": []
    },
    {
      "cell_type": "code",
      "source": [
        "model_on_cpu = MNISTModelV0(input_shape=1,\n",
        "                      hidden_units=10,\n",
        "                      output_shape=len(class_names)).to(\"cpu\")\n",
        "\n",
        "loss_fn  = nn.CrossEntropyLoss() # using CrossEntropyLoss because this is a multi-class classification model\n",
        "optimizer = torch.optim.SGD(params=model_on_cpu.parameters(), lr=0.1) # using Stochastic Gradient Descent\n",
        "accuracy_fn = MulticlassAccuracy(num_classes=len(class_names))\n",
        "\n",
        "torch.manual_seed(42)\n",
        "\n",
        "from timeit import default_timer as timer\n",
        "start_time_on_cpu = timer()\n",
        "\n",
        "epochs=5\n",
        "\n",
        "for epoch in tqdm(range(epochs)):\n",
        "  print(f\"\\nEpoch: {epoch}\\n----------\")\n",
        "\n",
        "  train_step(model=model_on_cpu, loss_fn=loss_fn, accuracy_fn=accuracy_fn,\n",
        "             optimizer=optimizer, data_loader=train_dataloader,\n",
        "             device=\"cpu\")\n",
        "\n",
        "  test_step(model=model_on_cpu, loss_fn=loss_fn, accuracy_fn=accuracy_fn,\n",
        "            data_loader=test_dataloader, device=\"cpu\")\n",
        "\n",
        "end_time_on_cpu = timer()\n",
        "\n",
        "total_train_on_cpu = print_train_time(start=start_time_on_cpu,\n",
        "                                        end=end_time_on_cpu,\n",
        "                                        device=\"cpu\")"
      ],
      "metadata": {
        "colab": {
          "base_uri": "https://localhost:8080/",
          "height": 674,
          "referenced_widgets": [
            "e6cf061a14654b13807011f1fe553e03",
            "5c85ad5239b94be0916538050f90be1e",
            "c278fea388d74eb29c68d93390ae8914",
            "e90c67ef0831428595faf73b65bac7d3",
            "eccaca352e714ddd9e5830239d3e0ca3",
            "9295d9cabb7240d1adf712ad1754e03c",
            "ccd5c1e7d88046e593cc899a64d53639",
            "44d46f6066414133870ede98f5c77194",
            "5292d97b22e4458ba13e61e4a66ce3b9",
            "32933335dbe2478fa9d598310f5b2660",
            "ceb59026aa204351ab0ffa6e0491cc1b"
          ]
        },
        "id": "_VSzRqgTp3JZ",
        "outputId": "8e9951c2-4bed-4f9c-b422-f0eb1d26eee4"
      },
      "execution_count": 244,
      "outputs": [
        {
          "output_type": "display_data",
          "data": {
            "text/plain": [
              "  0%|          | 0/5 [00:00<?, ?it/s]"
            ],
            "application/vnd.jupyter.widget-view+json": {
              "version_major": 2,
              "version_minor": 0,
              "model_id": "e6cf061a14654b13807011f1fe553e03"
            }
          },
          "metadata": {}
        },
        {
          "output_type": "stream",
          "name": "stdout",
          "text": [
            "\n",
            "Epoch: 0\n",
            "----------\n",
            "\n",
            "Train loss: 0.40891 | Train acc: 0.78%\n",
            "\n",
            "Test Loss: 0.09532 | Test acc: 0.88%\n",
            "\n",
            "Epoch: 1\n",
            "----------\n",
            "\n",
            "Train loss: 0.09362 | Train acc: 0.86%\n",
            "\n",
            "Test Loss: 0.06601 | Test acc: 0.89%\n",
            "\n",
            "Epoch: 2\n",
            "----------\n",
            "\n",
            "Train loss: 0.07429 | Train acc: 0.87%\n",
            "\n",
            "Test Loss: 0.05475 | Test acc: 0.90%\n",
            "\n",
            "Epoch: 3\n",
            "----------\n",
            "\n",
            "Train loss: 0.06418 | Train acc: 0.87%\n",
            "\n",
            "Test Loss: 0.06459 | Test acc: 0.90%\n",
            "\n",
            "Epoch: 4\n",
            "----------\n",
            "\n",
            "Train loss: 0.05730 | Train acc: 0.88%\n",
            "\n",
            "Test Loss: 0.05718 | Test acc: 0.90%\n",
            "Train time on cpu: 228.891 seconds\n"
          ]
        }
      ]
    },
    {
      "cell_type": "code",
      "source": [
        "model_on_gpu = MNISTModelV0(input_shape=1,\n",
        "                      hidden_units=10,\n",
        "                      output_shape=len(class_names)).to(device)\n",
        "\n",
        "loss_fn  = nn.CrossEntropyLoss() # using CrossEntropyLoss because this is a multi-class classification model\n",
        "optimizer = torch.optim.SGD(params=model_on_gpu.parameters(), lr=0.1) # using Stochastic Gradient Descent\n",
        "accuracy_fn = MulticlassAccuracy(num_classes=len(class_names)).to(device)\n",
        "\n",
        "torch.manual_seed(42)\n",
        "\n",
        "from timeit import default_timer as timer\n",
        "start_time_on_gpu = timer()\n",
        "\n",
        "epochs=5\n",
        "\n",
        "for epoch in tqdm(range(epochs)):\n",
        "  print(f\"\\nEpoch: {epoch}\\n----------\")\n",
        "\n",
        "  train_step(model=model_on_gpu, loss_fn=loss_fn, accuracy_fn=accuracy_fn,\n",
        "             optimizer=optimizer, data_loader=train_dataloader,\n",
        "             device=device)\n",
        "\n",
        "  test_step(model=model_on_gpu, loss_fn=loss_fn, accuracy_fn=accuracy_fn,\n",
        "            data_loader=test_dataloader, device=device)\n",
        "\n",
        "end_time_on_gpu = timer()\n",
        "\n",
        "total_train_on_gpu = print_train_time(start=start_time_on_gpu,\n",
        "                                        end=end_time_on_gpu,\n",
        "                                        device=device)"
      ],
      "metadata": {
        "colab": {
          "base_uri": "https://localhost:8080/",
          "height": 674,
          "referenced_widgets": [
            "c4261c8467dd45bdb00e83d270499ab8",
            "9a7787ee3a69452783136d41c6f9d557",
            "d36aabcb4ee8451e9b958a9e93b3117b",
            "dfeb60977c844f25b9c99fc7bfb23efd",
            "30f08267e7eb44c0b8ef0ba3065f1d38",
            "3c28aec18c914db6b70e7eb558d1435f",
            "9e71fbff803e47c494e77586e503c0d8",
            "f26edbf32a4044e7a37e02b55fb101c0",
            "5345e84da6104ccf952421732fa70063",
            "c0e3909b8b404bb58d36651458f611b6",
            "8593eb6b4982405ba425ba016bd4f5fa"
          ]
        },
        "id": "DxGlMXFd_Sjv",
        "outputId": "5048e46e-b31b-4271-a471-ff13f400d7a6"
      },
      "execution_count": 246,
      "outputs": [
        {
          "output_type": "display_data",
          "data": {
            "text/plain": [
              "  0%|          | 0/5 [00:00<?, ?it/s]"
            ],
            "application/vnd.jupyter.widget-view+json": {
              "version_major": 2,
              "version_minor": 0,
              "model_id": "c4261c8467dd45bdb00e83d270499ab8"
            }
          },
          "metadata": {}
        },
        {
          "output_type": "stream",
          "name": "stdout",
          "text": [
            "\n",
            "Epoch: 0\n",
            "----------\n",
            "\n",
            "Train loss: 0.48051 | Train acc: 0.74%\n",
            "\n",
            "Test Loss: 0.07546 | Test acc: 0.89%\n",
            "\n",
            "Epoch: 1\n",
            "----------\n",
            "\n",
            "Train loss: 0.07713 | Train acc: 0.85%\n",
            "\n",
            "Test Loss: 0.04653 | Test acc: 0.90%\n",
            "\n",
            "Epoch: 2\n",
            "----------\n",
            "\n",
            "Train loss: 0.05651 | Train acc: 0.87%\n",
            "\n",
            "Test Loss: 0.05260 | Test acc: 0.90%\n",
            "\n",
            "Epoch: 3\n",
            "----------\n",
            "\n",
            "Train loss: 0.04593 | Train acc: 0.88%\n",
            "\n",
            "Test Loss: 0.04734 | Test acc: 0.91%\n",
            "\n",
            "Epoch: 4\n",
            "----------\n",
            "\n",
            "Train loss: 0.03974 | Train acc: 0.88%\n",
            "\n",
            "Test Loss: 0.04173 | Test acc: 0.91%\n",
            "Train time on cuda: 75.035 seconds\n"
          ]
        }
      ]
    },
    {
      "cell_type": "code",
      "source": [
        "print(f\"GPU Model trained {(total_train_on_cpu - total_train_on_gpu):.2f} seconds faster.\")"
      ],
      "metadata": {
        "colab": {
          "base_uri": "https://localhost:8080/"
        },
        "id": "SGUzCSCUBMOE",
        "outputId": "0011cb16-ad07-48f1-a809-dbbb21d71a22"
      },
      "execution_count": 247,
      "outputs": [
        {
          "output_type": "stream",
          "name": "stdout",
          "text": [
            "GPU Model trained 153.86 seconds faster.\n"
          ]
        }
      ]
    },
    {
      "cell_type": "markdown",
      "source": [
        "## 10. Make predictions using your trained model and visualize at least 5 of them comparing the prediciton to the target label."
      ],
      "metadata": {
        "id": "w1CsHhPpxp1w"
      }
    },
    {
      "cell_type": "code",
      "source": [
        "def get_random_samples(count=9, data=test_data):\n",
        "  import random\n",
        "\n",
        "  test_samples = []\n",
        "  test_labels = []\n",
        "\n",
        "  for sample, label in random.sample(list(data), k=count):\n",
        "    test_samples.append(sample)\n",
        "    test_labels.append(label)\n",
        "\n",
        "  return test_samples, test_labels"
      ],
      "metadata": {
        "id": "_YGgZvSobNxu"
      },
      "execution_count": 299,
      "outputs": []
    },
    {
      "cell_type": "code",
      "source": [
        "from tqdm.auto import tqdm\n",
        "\n",
        "def make_predictions(model:nn.Module, samples, device=device):\n",
        "  pred_probs = []\n",
        "\n",
        "  # make sure model is on proper device\n",
        "  model.to(device)\n",
        "\n",
        "  # put in eval mode\n",
        "  model.eval()\n",
        "\n",
        "  with torch.inference_mode():\n",
        "    for sample in tqdm(samples, desc=\"Making predictions....\"):\n",
        "\n",
        "      # add a batch dimension\n",
        "      sample = torch.unsqueeze(sample, dim=0).to(device)\n",
        "\n",
        "      # forward pass\n",
        "      pred_logit = model(sample)\n",
        "\n",
        "      # get prediction probability\n",
        "      pred_prob = torch.softmax(pred_logit.squeeze(), dim=0)\n",
        "\n",
        "      # put probs on cpu, will need this for plotting later\n",
        "      pred_probs.append(pred_prob.cpu())\n",
        "\n",
        "  pred_probs = torch.stack(pred_probs)\n",
        "  pred_classes = pred_probs.argmax(dim=1)\n",
        "\n",
        "  return pred_probs, pred_classes"
      ],
      "metadata": {
        "id": "htqOTAAFGnvu"
      },
      "execution_count": 225,
      "outputs": []
    },
    {
      "cell_type": "code",
      "source": [
        "# make predictions on gpu model because it's good practice\n",
        "on_gpu_samples, on_gpu_labels = get_random_samples()\n",
        "pred_probs_on_gpu, pred_classes_on_gpu = make_predictions(model=model_on_gpu, samples=on_gpu_samples, device=device)\n",
        "pred_probs_on_gpu, pred_classes_on_gpu"
      ],
      "metadata": {
        "colab": {
          "base_uri": "https://localhost:8080/",
          "height": 379,
          "referenced_widgets": [
            "215ccf27f77f49ac8ee98b005fc0f2bc",
            "480a3f0dc8fd4e89a4db178c0ee1ebea",
            "71219c7482ac4690b400fdd0bc930302",
            "f64f5ac2ef9f40128556052a313d187f",
            "70b2a294b9d34461ba7f30d98e7f828e",
            "5f4a80cc9c454e24b008b246cc6be229",
            "c2013fab12da4586838d2a4269770920",
            "28eeae8e296b4ee7b3f4c02abc69a971",
            "01de01d8a8a84005a59bccbbb208a9e3",
            "98a010cf43894c748c1960157f64453e",
            "4bb84606c67c4b28a2828d5862a0e188"
          ]
        },
        "id": "opHvfnPvEd4t",
        "outputId": "b4ed5335-33da-403a-8424-6bbb81386134"
      },
      "execution_count": 248,
      "outputs": [
        {
          "output_type": "display_data",
          "data": {
            "text/plain": [
              "Making predictions....:   0%|          | 0/9 [00:00<?, ?it/s]"
            ],
            "application/vnd.jupyter.widget-view+json": {
              "version_major": 2,
              "version_minor": 0,
              "model_id": "215ccf27f77f49ac8ee98b005fc0f2bc"
            }
          },
          "metadata": {}
        },
        {
          "output_type": "execute_result",
          "data": {
            "text/plain": [
              "(tensor([[1.3024e-07, 1.9564e-04, 9.9009e-01, 2.3928e-04, 4.1767e-12, 1.8760e-10,\n",
              "          2.3589e-08, 2.3718e-09, 9.4736e-03, 3.4615e-08],\n",
              "         [2.9825e-08, 9.9937e-01, 2.9516e-07, 8.5575e-08, 1.0063e-04, 4.6884e-09,\n",
              "          5.2839e-07, 5.2368e-04, 1.5030e-06, 3.0927e-07],\n",
              "         [8.8669e-01, 4.8550e-07, 7.6581e-05, 1.7927e-05, 1.0241e-07, 4.3756e-04,\n",
              "          1.0628e-01, 1.4556e-09, 6.4993e-03, 9.3515e-07],\n",
              "         [2.7061e-09, 7.5079e-05, 9.9992e-01, 8.5599e-07, 1.8630e-12, 1.5052e-14,\n",
              "          3.0719e-13, 2.1631e-06, 6.3725e-07, 2.9436e-10],\n",
              "         [6.6782e-12, 1.3622e-09, 2.0421e-10, 1.6749e-10, 9.9999e-01, 2.3309e-07,\n",
              "          4.1017e-08, 4.0053e-09, 4.4239e-08, 1.0422e-05],\n",
              "         [1.3141e-08, 1.1996e-09, 6.1865e-06, 1.2806e-04, 5.5714e-12, 2.8677e-09,\n",
              "          3.2270e-15, 9.9984e-01, 1.5895e-10, 2.3231e-05],\n",
              "         [7.5648e-11, 1.5402e-09, 1.0000e+00, 1.4587e-09, 1.4388e-14, 2.7785e-16,\n",
              "          8.9264e-14, 4.2728e-11, 1.7162e-10, 2.7310e-13],\n",
              "         [9.8419e-11, 1.0763e-07, 1.4419e-07, 9.6793e-05, 1.1020e-11, 2.2629e-09,\n",
              "          4.0403e-14, 9.9990e-01, 2.4596e-08, 7.1687e-06],\n",
              "         [8.1188e-11, 3.6992e-09, 3.8278e-04, 1.0441e-05, 4.7460e-10, 2.4032e-11,\n",
              "          7.3852e-12, 9.9961e-01, 5.6740e-09, 9.2219e-10]]),\n",
              " tensor([2, 1, 0, 2, 4, 7, 2, 7, 7]))"
            ]
          },
          "metadata": {},
          "execution_count": 248
        }
      ]
    },
    {
      "cell_type": "code",
      "source": [
        "def plot_predictions(pred_classes, samples, labels, class_names=class_names, rows=3, cols=3):\n",
        "  fig = plt.figure(figsize=(8,8))\n",
        "\n",
        "  for i, sample in enumerate(samples):\n",
        "\n",
        "    plt.subplot(rows, cols, i + 1)\n",
        "\n",
        "    plt.imshow(sample.squeeze(), cmap=\"gray\")\n",
        "\n",
        "    pred_label = class_names[pred_classes[i]]\n",
        "\n",
        "    truth_label = class_names[labels[i]]\n",
        "\n",
        "    title_text = f\"Pred: {pred_label} | Truth: {truth_label}\"\n",
        "\n",
        "    if pred_label == truth_label:\n",
        "      plt.title(title_text, fontsize=10, c=\"g\")\n",
        "    else:\n",
        "      plt.title(title_text, fontsize=10, c=\"r\")\n",
        "\n",
        "    plt.axis(False)"
      ],
      "metadata": {
        "id": "2HTukxtiFJcN"
      },
      "execution_count": 309,
      "outputs": []
    },
    {
      "cell_type": "code",
      "source": [
        "plot_predictions(pred_classes_on_gpu, on_gpu_samples, on_gpu_labels)"
      ],
      "metadata": {
        "colab": {
          "base_uri": "https://localhost:8080/",
          "height": 672
        },
        "id": "VgZaH6IgJJ_1",
        "outputId": "042dd49e-b07d-4de7-89b1-95aecef9c72a"
      },
      "execution_count": 254,
      "outputs": [
        {
          "output_type": "display_data",
          "data": {
            "text/plain": [
              "<Figure size 800x800 with 9 Axes>"
            ],
            "image/png": "[encoded data removed]"
          },
          "metadata": {}
        }
      ]
    },
    {
      "cell_type": "markdown",
      "source": [
        "## 11. Plot a confusion matrix comparing your model's predictions to the truth labels."
      ],
      "metadata": {
        "id": "qQwzqlBWxrpG"
      }
    },
    {
      "cell_type": "code",
      "source": [
        "# make predictions on all test data\n",
        "from tqdm.auto import tqdm\n",
        "\n",
        "y_preds = []\n",
        "\n",
        "# put in eval mode\n",
        "model_on_gpu.eval()\n",
        "\n",
        "with torch.inference_mode():\n",
        "  for X, y in tqdm(test_dataloader, desc=\"Making predictions....\"):\n",
        "\n",
        "    # put data on proper device\n",
        "    X, y = X.to(device), y.to(device)\n",
        "\n",
        "    # forward pass\n",
        "    pred_logits = model_on_gpu(X)\n",
        "\n",
        "    # turn logits to prediction lables\n",
        "    y_pred = torch.softmax(pred_logits.squeeze(), dim=0).argmax(dim=1)\n",
        "\n",
        "    y_preds.append(y_pred.cpu())\n",
        "\n",
        "y_pred_tensor = torch.cat(y_preds)\n",
        "y_pred_tensor"
      ],
      "metadata": {
        "id": "vSrXiT_AbQ6e",
        "colab": {
          "base_uri": "https://localhost:8080/",
          "height": 66,
          "referenced_widgets": [
            "f718a53710d84bdb8d04a71d7b215cb3",
            "7bd2e17b0e2747909b5a7835b51db8b3",
            "b0df2aac811141459f3dc19fb7984c0e",
            "2f9019718b874d75ba67f420e22d3164",
            "a1fda59fd1974911bcc6e974d906e8f2",
            "abdea341f4b04133b2ee4064242b9059",
            "5c032129364848b7afdc125133d20715",
            "236bad9de74143b0a691d7c8b7e752ea",
            "b1f5451784ed42908c10e33e574f51e7",
            "011f11b044304f708a1231bba09748b4",
            "a45c4d271fa145148b509338ad479c43"
          ]
        },
        "outputId": "9cac5ca1-40f2-4fdf-e890-c25503df085c"
      },
      "execution_count": 256,
      "outputs": [
        {
          "output_type": "display_data",
          "data": {
            "text/plain": [
              "Making predictions....:   0%|          | 0/313 [00:00<?, ?it/s]"
            ],
            "application/vnd.jupyter.widget-view+json": {
              "version_major": 2,
              "version_minor": 0,
              "model_id": "f718a53710d84bdb8d04a71d7b215cb3"
            }
          },
          "metadata": {}
        },
        {
          "output_type": "execute_result",
          "data": {
            "text/plain": [
              "tensor([7, 2, 1,  ..., 4, 5, 6])"
            ]
          },
          "metadata": {},
          "execution_count": 256
        }
      ]
    },
    {
      "cell_type": "code",
      "source": [
        "len(y_pred_tensor)"
      ],
      "metadata": {
        "colab": {
          "base_uri": "https://localhost:8080/"
        },
        "id": "aATfmek2NFAV",
        "outputId": "bd0eca5a-af5f-43db-84a6-49e5ae0f8fcb"
      },
      "execution_count": 257,
      "outputs": [
        {
          "output_type": "execute_result",
          "data": {
            "text/plain": [
              "10000"
            ]
          },
          "metadata": {},
          "execution_count": 257
        }
      ]
    },
    {
      "cell_type": "code",
      "source": [
        "try:\n",
        "  import mlxtend\n",
        "  print(f\"mlxtend ver: {mlxtend.__version__}\")\n",
        "  assert int(mlxtend.__version__.split('.')[1]) >= 19, 'mlxtend version should be 0.19 or higher'\n",
        "except:\n",
        "  !pip install -U mlxtend\n",
        "  import mlxtend\n",
        "  print(f\"mlxtend ver: {mlxtend.__version__}\")"
      ],
      "metadata": {
        "colab": {
          "base_uri": "https://localhost:8080/"
        },
        "id": "3e0I4429NJ58",
        "outputId": "507ce4ee-5cb2-452e-ddbc-f457394f7581"
      },
      "execution_count": 258,
      "outputs": [
        {
          "output_type": "stream",
          "name": "stdout",
          "text": [
            "mlxtend ver: 0.22.0\n"
          ]
        }
      ]
    },
    {
      "cell_type": "code",
      "source": [
        "from torchmetrics import ConfusionMatrix\n",
        "from mlxtend.plotting import plot_confusion_matrix\n",
        "\n",
        "confmat = ConfusionMatrix(task=\"multiclass\", num_classes=len(class_names))\n",
        "\n",
        "confmat_tensor = confmat(preds=y_pred_tensor,\n",
        "                         target=test_data.targets)\n",
        "\n",
        "fig, ax = plot_confusion_matrix(\n",
        "    conf_mat = confmat_tensor.numpy(),\n",
        "    class_names = class_names,\n",
        "    figsize = (10, 7)\n",
        ")"
      ],
      "metadata": {
        "colab": {
          "base_uri": "https://localhost:8080/",
          "height": 660
        },
        "id": "St3fDJHGN7gf",
        "outputId": "c900a058-6e98-4289-e23f-3988ac02a55d"
      },
      "execution_count": 259,
      "outputs": [
        {
          "output_type": "display_data",
          "data": {
            "text/plain": [
              "<Figure size 1000x700 with 1 Axes>"
            ],
            "image/png": "[encoded data removed]"
          },
          "metadata": {}
        }
      ]
    },
    {
      "cell_type": "markdown",
      "source": [
        "## 12. Create a random tensor of shape `[1, 3, 64, 64]` and pass it through a `nn.Conv2d()` layer with various hyperparameter settings (these can be any settings you choose), what do you notice if the `kernel_size` parameter goes up and down?"
      ],
      "metadata": {
        "id": "lj6bDhoWxt2y"
      }
    },
    {
      "cell_type": "code",
      "source": [
        "def create_conv_layer(kernel_size=3, stride=1, padding=0):\n",
        "  return nn.Conv2d(in_channels=3,\n",
        "                       out_channels=10,\n",
        "                       kernel_size=kernel_size,\n",
        "                       stride=stride,\n",
        "                       padding=0)"
      ],
      "metadata": {
        "id": "bsL0EiMBrgns"
      },
      "execution_count": 263,
      "outputs": []
    },
    {
      "cell_type": "code",
      "source": [
        "torch.manual_seed(42)\n",
        "\n",
        "KERNEL_SIZE = 3\n",
        "\n",
        "rand_tensor = torch.rand(size=(1, 3, 64, 64)) #batch, color channel, h, w"
      ],
      "metadata": {
        "id": "bTjy_Xt3r1ZG"
      },
      "execution_count": 264,
      "outputs": []
    },
    {
      "cell_type": "code",
      "source": [
        "\n",
        "output = create_conv_layer()(rand_tensor)\n",
        "print(f'Original: \\t\\t{rand_tensor.shape}\\n')\n",
        "\n",
        "print('The image is compressed into a smaller')\n",
        "output = create_conv_layer(kernel_size=1)(rand_tensor)\n",
        "print(f\"Kernel size: 1: \\t{output.shape}\")\n",
        "\n",
        "output = create_conv_layer(kernel_size=5)(rand_tensor)\n",
        "print(f\"Kernel size: 5: \\t{output.shape}\")\n",
        "\n",
        "print('\\n')\n",
        "output = create_conv_layer(stride=3)(rand_tensor)\n",
        "print(f\"Stride: 3: \\t\\t{output.shape}\")\n",
        "\n",
        "output = create_conv_layer(stride=5)(rand_tensor)\n",
        "print(f\"Stride: 5: \\t\\t{output.shape}\")\n",
        "print('\\n')\n",
        "output = create_conv_layer(padding=1)(rand_tensor)\n",
        "print(f\"Padding: 1: \\t\\t{output.shape}\")\n",
        "\n",
        "output = create_conv_layer(padding=10)(rand_tensor)\n",
        "print(f\"Padding: 10: \\t\\t{output.shape}\")"
      ],
      "metadata": {
        "id": "leCTsqtSbR5P",
        "colab": {
          "base_uri": "https://localhost:8080/"
        },
        "outputId": "1d253930-70b1-4c6f-c25c-9aaae21c86fc"
      },
      "execution_count": 292,
      "outputs": [
        {
          "output_type": "stream",
          "name": "stdout",
          "text": [
            "Original: \t\ttorch.Size([1, 3, 64, 64])\n",
            "\n",
            "Kernel size: 1: \ttorch.Size([1, 10, 64, 64])\n",
            "Kernel size: 5: \ttorch.Size([1, 10, 60, 60])\n",
            "\n",
            "\n",
            "Stride: 3: \t\ttorch.Size([1, 10, 21, 21])\n",
            "Stride: 5: \t\ttorch.Size([1, 10, 13, 13])\n",
            "\n",
            "\n",
            "Padding: 1: \t\ttorch.Size([1, 10, 62, 62])\n",
            "Padding: 10: \t\ttorch.Size([1, 10, 62, 62])\n"
          ]
        }
      ]
    },
    {
      "cell_type": "markdown",
      "source": [
        "While it's true that the ouput feature map has smaller spatial dimensions than the input image, this is primarily due to the absence of padding and the use of a stride of 1, rather than solely because of the increased kernel size."
      ],
      "metadata": {
        "id": "M9XgCaH3xLff"
      }
    },
    {
      "cell_type": "markdown",
      "source": [
        "## 13. Use a model similar to the trained `model_2` from notebook 03 to make predictions on the test [`torchvision.datasets.FashionMNIST`](https://pytorch.org/vision/main/generated/torchvision.datasets.FashionMNIST.html) dataset.\n",
        "* Then plot some predictions where the model was wrong alongside what the label of the image should've been.\n",
        "* After visualing these predictions do you think it's more of a modelling error or a data error?\n",
        "* As in, could the model do better or are the labels of the data too close to each other (e.g. a \"Shirt\" label is too close to \"T-shirt/top\")?"
      ],
      "metadata": {
        "id": "VHS20cNTxwSi"
      }
    },
    {
      "cell_type": "code",
      "source": [
        "fashion_train_data = datasets.FashionMNIST(\n",
        "    root=\"data\",\n",
        "    train=True,\n",
        "    download=True,\n",
        "    transform=ToTensor(),\n",
        "    target_transform=None\n",
        ")\n",
        "\n",
        "fashion_test_data = datasets.FashionMNIST(\n",
        "    root=\"data\",\n",
        "    train=False,\n",
        "    download=True,\n",
        "    transform=ToTensor(),\n",
        "    target_transform=None,\n",
        ")"
      ],
      "metadata": {
        "id": "78a8LjtdbSZj",
        "colab": {
          "base_uri": "https://localhost:8080/"
        },
        "outputId": "cf6f128a-6c20-4e9b-9efa-2b09d07bf20d"
      },
      "execution_count": 293,
      "outputs": [
        {
          "output_type": "stream",
          "name": "stdout",
          "text": [
            "Downloading http://fashion-mnist.s3-website.eu-central-1.amazonaws.com/train-images-idx3-ubyte.gz\n",
            "Downloading http://fashion-mnist.s3-website.eu-central-1.amazonaws.com/train-images-idx3-ubyte.gz to data/FashionMNIST/raw/train-images-idx3-ubyte.gz\n"
          ]
        },
        {
          "output_type": "stream",
          "name": "stderr",
          "text": [
            "100%|██████████| 26421880/26421880 [00:01<00:00, 15669172.40it/s]\n"
          ]
        },
        {
          "output_type": "stream",
          "name": "stdout",
          "text": [
            "Extracting data/FashionMNIST/raw/train-images-idx3-ubyte.gz to data/FashionMNIST/raw\n",
            "\n",
            "Downloading http://fashion-mnist.s3-website.eu-central-1.amazonaws.com/train-labels-idx1-ubyte.gz\n",
            "Downloading http://fashion-mnist.s3-website.eu-central-1.amazonaws.com/train-labels-idx1-ubyte.gz to data/FashionMNIST/raw/train-labels-idx1-ubyte.gz\n"
          ]
        },
        {
          "output_type": "stream",
          "name": "stderr",
          "text": [
            "100%|██████████| 29515/29515 [00:00<00:00, 274337.08it/s]\n"
          ]
        },
        {
          "output_type": "stream",
          "name": "stdout",
          "text": [
            "Extracting data/FashionMNIST/raw/train-labels-idx1-ubyte.gz to data/FashionMNIST/raw\n",
            "\n",
            "Downloading http://fashion-mnist.s3-website.eu-central-1.amazonaws.com/t10k-images-idx3-ubyte.gz\n",
            "Downloading http://fashion-mnist.s3-website.eu-central-1.amazonaws.com/t10k-images-idx3-ubyte.gz to data/FashionMNIST/raw/t10k-images-idx3-ubyte.gz\n"
          ]
        },
        {
          "output_type": "stream",
          "name": "stderr",
          "text": [
            "100%|██████████| 4422102/4422102 [00:00<00:00, 4943801.45it/s]\n"
          ]
        },
        {
          "output_type": "stream",
          "name": "stdout",
          "text": [
            "Extracting data/FashionMNIST/raw/t10k-images-idx3-ubyte.gz to data/FashionMNIST/raw\n",
            "\n",
            "Downloading http://fashion-mnist.s3-website.eu-central-1.amazonaws.com/t10k-labels-idx1-ubyte.gz\n",
            "Downloading http://fashion-mnist.s3-website.eu-central-1.amazonaws.com/t10k-labels-idx1-ubyte.gz to data/FashionMNIST/raw/t10k-labels-idx1-ubyte.gz\n"
          ]
        },
        {
          "output_type": "stream",
          "name": "stderr",
          "text": [
            "100%|██████████| 5148/5148 [00:00<00:00, 5266409.02it/s]"
          ]
        },
        {
          "output_type": "stream",
          "name": "stdout",
          "text": [
            "Extracting data/FashionMNIST/raw/t10k-labels-idx1-ubyte.gz to data/FashionMNIST/raw\n",
            "\n"
          ]
        },
        {
          "output_type": "stream",
          "name": "stderr",
          "text": [
            "\n"
          ]
        }
      ]
    },
    {
      "cell_type": "code",
      "source": [
        "len(fashion_train_data), len(fashion_test_data)"
      ],
      "metadata": {
        "colab": {
          "base_uri": "https://localhost:8080/"
        },
        "id": "1DJpo7_FyoVc",
        "outputId": "bb201d19-efd2-4077-b0e3-b7af500ba03d"
      },
      "execution_count": 294,
      "outputs": [
        {
          "output_type": "execute_result",
          "data": {
            "text/plain": [
              "(60000, 10000)"
            ]
          },
          "metadata": {},
          "execution_count": 294
        }
      ]
    },
    {
      "cell_type": "code",
      "source": [
        "fashion_class_names = fashion_train_data.classes\n",
        "fashion_class_names"
      ],
      "metadata": {
        "colab": {
          "base_uri": "https://localhost:8080/"
        },
        "id": "_jOcRpnLyw-q",
        "outputId": "fd86dc0c-c6c4-43be-c81e-be9262a5d316"
      },
      "execution_count": 295,
      "outputs": [
        {
          "output_type": "execute_result",
          "data": {
            "text/plain": [
              "['T-shirt/top',\n",
              " 'Trouser',\n",
              " 'Pullover',\n",
              " 'Dress',\n",
              " 'Coat',\n",
              " 'Sandal',\n",
              " 'Shirt',\n",
              " 'Sneaker',\n",
              " 'Bag',\n",
              " 'Ankle boot']"
            ]
          },
          "metadata": {},
          "execution_count": 295
        }
      ]
    },
    {
      "cell_type": "code",
      "source": [
        "BATCH_SIZE = 32\n",
        "\n",
        "fashion_train_dataloader = DataLoader(dataset=fashion_train_data,\n",
        "                                      batch_size=BATCH_SIZE,\n",
        "                                      shuffle=True)\n",
        "\n",
        "fashion_test_dataloader = DataLoader(dataset=fashion_test_data,\n",
        "                                      batch_size=BATCH_SIZE,\n",
        "                                      shuffle=False)\n",
        "\n",
        "fashion_train_dataloader, fashion_test_dataloader"
      ],
      "metadata": {
        "colab": {
          "base_uri": "https://localhost:8080/"
        },
        "id": "UAB9HASzy5hZ",
        "outputId": "831f6234-e51a-4063-b2e1-3120abc13184"
      },
      "execution_count": 296,
      "outputs": [
        {
          "output_type": "execute_result",
          "data": {
            "text/plain": [
              "(<torch.utils.data.dataloader.DataLoader at 0x7d229b1885b0>,\n",
              " <torch.utils.data.dataloader.DataLoader at 0x7d229b18bfd0>)"
            ]
          },
          "metadata": {},
          "execution_count": 296
        }
      ]
    },
    {
      "cell_type": "code",
      "source": [
        "# Check out what's inside the training data loader\n",
        "train_features_batch, train_labels_batch = next(iter(fashion_train_dataloader))\n",
        "\n",
        "train_features_batch.shape, train_labels_batch.shape"
      ],
      "metadata": {
        "colab": {
          "base_uri": "https://localhost:8080/"
        },
        "id": "m2QgJrGS0fkQ",
        "outputId": "0780728f-ae31-4fe0-ff11-24ea1b049f2d"
      },
      "execution_count": 297,
      "outputs": [
        {
          "output_type": "execute_result",
          "data": {
            "text/plain": [
              "(torch.Size([32, 1, 28, 28]), torch.Size([32]))"
            ]
          },
          "metadata": {},
          "execution_count": 297
        }
      ]
    },
    {
      "cell_type": "code",
      "source": [
        "fashion_model = MNISTModelV0(input_shape=1,\n",
        "                      hidden_units=10,\n",
        "                      output_shape=len(fashion_class_names)).to(device)\n",
        "\n",
        "loss_fn  = nn.CrossEntropyLoss() # using CrossEntropyLoss because this is a multi-class classification model\n",
        "optimizer = torch.optim.SGD(params=fashion_model.parameters(), lr=0.1) # using Stochastic Gradient Descent\n",
        "accuracy_fn = MulticlassAccuracy(num_classes=len(fashion_class_names)).to(device)\n",
        "\n",
        "torch.manual_seed(42)\n",
        "\n",
        "from timeit import default_timer as timer\n",
        "start_time_on_gpu = timer()\n",
        "\n",
        "epochs=5\n",
        "\n",
        "for epoch in tqdm(range(epochs)):\n",
        "  print(f\"\\nEpoch: {epoch}\\n----------\")\n",
        "\n",
        "  train_step(model=fashion_model, loss_fn=loss_fn, accuracy_fn=accuracy_fn,\n",
        "             optimizer=optimizer, data_loader=fashion_train_dataloader,\n",
        "             device=device)\n",
        "\n",
        "  test_step(model=fashion_model, loss_fn=loss_fn, accuracy_fn=accuracy_fn,\n",
        "            data_loader=fashion_test_dataloader, device=device)\n",
        "\n",
        "end_time_on_gpu = timer()\n",
        "\n",
        "total_train_on_gpu = print_train_time(start=start_time_on_gpu,\n",
        "                                        end=end_time_on_gpu,\n",
        "                                        device=device)"
      ],
      "metadata": {
        "colab": {
          "base_uri": "https://localhost:8080/",
          "height": 674,
          "referenced_widgets": [
            "83b7651d958c4e8188b7b1f5648856c4",
            "cf9577537ddb4683bec458148351f549",
            "c2fc67928ce440798d773dadc8b2652b",
            "eeeebb7c0603469d942862adeb375f2d",
            "06567a658d8945b8b61eff44f27aa519",
            "a28fbe4c5202458b9244668b7947488b",
            "140bee1e318d43cb82bf34e910ee21d3",
            "28621a75142a4e329ac2eb9fa3a67415",
            "a35bde9dc58a49deb4a462ed91273d7b",
            "3e783d9fc39b4271862f70598c6e9b9c",
            "f1dfb631ef54446cb7d3e701025d378e"
          ]
        },
        "id": "MxI3mpTmzUQK",
        "outputId": "a32bb73e-2c14-4c43-e496-ceeb2d8cd8a3"
      },
      "execution_count": 298,
      "outputs": [
        {
          "output_type": "display_data",
          "data": {
            "text/plain": [
              "  0%|          | 0/5 [00:00<?, ?it/s]"
            ],
            "application/vnd.jupyter.widget-view+json": {
              "version_major": 2,
              "version_minor": 0,
              "model_id": "83b7651d958c4e8188b7b1f5648856c4"
            }
          },
          "metadata": {}
        },
        {
          "output_type": "stream",
          "name": "stdout",
          "text": [
            "\n",
            "Epoch: 0\n",
            "----------\n",
            "\n",
            "Train loss: 0.60554 | Train acc: 0.74%\n",
            "\n",
            "Test Loss: 0.39408 | Test acc: 0.80%\n",
            "\n",
            "Epoch: 1\n",
            "----------\n",
            "\n",
            "Train loss: 0.35215 | Train acc: 0.80%\n",
            "\n",
            "Test Loss: 0.34448 | Test acc: 0.81%\n",
            "\n",
            "Epoch: 2\n",
            "----------\n",
            "\n",
            "Train loss: 0.31356 | Train acc: 0.81%\n",
            "\n",
            "Test Loss: 0.31998 | Test acc: 0.81%\n",
            "\n",
            "Epoch: 3\n",
            "----------\n",
            "\n",
            "Train loss: 0.29071 | Train acc: 0.81%\n",
            "\n",
            "Test Loss: 0.32809 | Test acc: 0.80%\n",
            "\n",
            "Epoch: 4\n",
            "----------\n",
            "\n",
            "Train loss: 0.27643 | Train acc: 0.82%\n",
            "\n",
            "Test Loss: 0.29487 | Test acc: 0.80%\n",
            "Train time on cuda: 77.182 seconds\n"
          ]
        }
      ]
    },
    {
      "cell_type": "code",
      "source": [
        "# make predictions on gpu model because it's good practice\n",
        "samples, labels = get_random_samples(count=20, data=fashion_test_data)\n",
        "pred_probs, pred_classes = make_predictions(model=fashion_model, samples=samples, device=device)\n",
        "pred_probs, pred_classes"
      ],
      "metadata": {
        "colab": {
          "base_uri": "https://localhost:8080/",
          "height": 761,
          "referenced_widgets": [
            "7eaa3e9a198e4a798732e9233a2d21c2",
            "d790ec96bb214bcbbebfda9d2ec34c23",
            "3fd2cd2db1f04aea998fafd5442afd82",
            "646f52d4c4574c5ea2695a6a2babbfda",
            "5d42aba0a3af4347a4815f36b19ca0db",
            "c5c5eef69e9b4398884fe301a5df5f68",
            "97fbea71ce5e49789201f2fcb0daf9f2",
            "d7c7fc6fe64d4417b79a587662cd8558",
            "43eba8ff22784c548a728a2890dea7bb",
            "f3ba8ed181674d7383485f919ec61e96",
            "4c46146eec1144e6b79c534767926621"
          ]
        },
        "id": "9dMFuTna1hRF",
        "outputId": "0baf2c6b-3d63-4e73-d0bb-2a98a6054c68"
      },
      "execution_count": 307,
      "outputs": [
        {
          "output_type": "display_data",
          "data": {
            "text/plain": [
              "Making predictions....:   0%|          | 0/20 [00:00<?, ?it/s]"
            ],
            "application/vnd.jupyter.widget-view+json": {
              "version_major": 2,
              "version_minor": 0,
              "model_id": "7eaa3e9a198e4a798732e9233a2d21c2"
            }
          },
          "metadata": {}
        },
        {
          "output_type": "execute_result",
          "data": {
            "text/plain": [
              "(tensor([[3.0754e-09, 2.8063e-08, 2.8204e-09, 3.3280e-10, 1.1518e-08, 6.3648e-06,\n",
              "          2.4960e-07, 1.0941e-08, 3.1583e-07, 9.9999e-01],\n",
              "         [1.9906e-03, 2.8620e-05, 1.4478e-05, 9.9757e-01, 1.7831e-05, 1.4675e-07,\n",
              "          3.7221e-04, 6.2938e-07, 1.1521e-06, 5.9577e-07],\n",
              "         [5.7867e-02, 5.0108e-05, 3.0356e-01, 1.0572e-03, 3.2876e-03, 1.0652e-05,\n",
              "          6.0777e-01, 8.5114e-05, 2.0797e-02, 5.5131e-03],\n",
              "         [5.7619e-04, 3.7041e-06, 9.8996e-05, 3.0824e-04, 2.5237e-04, 9.8538e-01,\n",
              "          1.3950e-04, 1.0474e-02, 2.6144e-03, 1.5466e-04],\n",
              "         [2.2503e-05, 9.9996e-01, 1.5732e-07, 1.3734e-05, 4.8468e-06, 1.3119e-06,\n",
              "          1.9940e-06, 6.1422e-08, 9.7168e-08, 5.5620e-08],\n",
              "         [1.0268e-05, 4.5885e-06, 2.0080e-06, 6.6640e-04, 4.7069e-05, 7.2014e-01,\n",
              "          3.3699e-05, 2.7578e-01, 2.8035e-03, 5.0801e-04],\n",
              "         [3.7184e-05, 1.4803e-05, 9.9644e-06, 6.6789e-04, 6.0567e-05, 2.2396e-02,\n",
              "          3.8443e-05, 9.7385e-01, 2.0784e-03, 8.4670e-04],\n",
              "         [4.1713e-03, 4.5368e-05, 9.7836e-01, 1.8314e-05, 3.0477e-03, 4.4868e-06,\n",
              "          1.4334e-02, 7.8305e-07, 6.5498e-06, 9.3804e-06],\n",
              "         [2.1785e-05, 4.5179e-07, 2.9598e-06, 3.6205e-05, 1.1729e-05, 3.2932e-03,\n",
              "          1.3921e-04, 3.9362e-03, 3.0588e-05, 9.9253e-01],\n",
              "         [1.2173e-06, 2.2025e-07, 8.6620e-07, 1.1422e-04, 1.3900e-06, 3.1757e-03,\n",
              "          5.5943e-06, 9.8323e-01, 6.4183e-05, 1.3405e-02],\n",
              "         [4.7672e-06, 8.1229e-08, 3.7656e-07, 2.5246e-06, 1.0749e-06, 9.9971e-01,\n",
              "          7.2498e-06, 3.8407e-05, 8.9729e-05, 1.4277e-04],\n",
              "         [3.3157e-07, 1.7647e-08, 2.4843e-07, 3.4017e-08, 4.6602e-08, 9.9998e-01,\n",
              "          4.5426e-07, 1.4424e-06, 1.3348e-05, 3.0516e-09],\n",
              "         [2.1033e-02, 1.6780e-04, 1.5175e-03, 7.3858e-03, 7.6840e-01, 1.3169e-06,\n",
              "          2.0139e-01, 1.3376e-05, 8.9848e-05, 5.9389e-06],\n",
              "         [2.0899e-05, 8.6372e-07, 1.1028e-05, 5.8586e-05, 1.7997e-05, 9.4082e-01,\n",
              "          2.2561e-05, 4.3062e-02, 2.6447e-04, 1.5720e-02],\n",
              "         [5.5470e-03, 9.0436e-05, 9.5170e-01, 3.1528e-04, 1.0359e-02, 1.0761e-06,\n",
              "          3.1724e-02, 1.5568e-06, 2.4655e-04, 1.4214e-05],\n",
              "         [1.5345e-06, 4.5204e-09, 2.2178e-06, 1.1531e-06, 8.5181e-06, 8.1567e-07,\n",
              "          1.2380e-06, 3.7060e-07, 9.9998e-01, 7.9651e-09],\n",
              "         [2.4200e-03, 2.9245e-04, 3.4524e-02, 3.0853e-04, 2.3854e-01, 3.7803e-06,\n",
              "          7.2369e-01, 3.3239e-06, 2.0088e-04, 2.0737e-05],\n",
              "         [6.4402e-04, 8.7099e-04, 7.3325e-04, 9.5834e-01, 3.7145e-02, 2.8937e-06,\n",
              "          1.6512e-03, 6.1660e-06, 6.0365e-04, 6.9962e-06],\n",
              "         [1.0478e-03, 1.6004e-01, 9.9973e-06, 8.2934e-01, 3.4847e-03, 1.1381e-03,\n",
              "          7.7871e-04, 2.8385e-04, 3.4878e-03, 3.8024e-04],\n",
              "         [9.7171e-05, 1.0949e-05, 3.5620e-05, 3.7228e-06, 3.0448e-04, 7.4954e-06,\n",
              "          2.9093e-03, 6.5110e-05, 9.9656e-01, 8.4711e-06]]),\n",
              " tensor([9, 3, 6, 5, 1, 5, 7, 2, 9, 7, 5, 5, 4, 5, 2, 8, 6, 3, 3, 8]))"
            ]
          },
          "metadata": {},
          "execution_count": 307
        }
      ]
    },
    {
      "cell_type": "code",
      "source": [
        "plot_predictions(pred_classes, samples, labels, class_names=fashion_class_names, rows=7, cols=3)"
      ],
      "metadata": {
        "colab": {
          "base_uri": "https://localhost:8080/",
          "height": 672
        },
        "id": "FVb5aqPb2qH_",
        "outputId": "ffda76da-ffa9-4d21-ba64-f70904403d99"
      },
      "execution_count": 311,
      "outputs": [
        {
          "output_type": "display_data",
          "data": {
            "text/plain": [
              "<Figure size 800x800 with 20 Axes>"
            ],
            "image/png": "[encoded data removed]"
          },
          "metadata": {}
        }
      ]
    },
    {
      "cell_type": "markdown",
      "source": [
        "The errors could very well be to mislabling.  The model predicted a shirt when the label was pullover.  But visually the item looks like a shirt.  The same for mistaking the coat as a dress.  The items may look a little too similar."
      ],
      "metadata": {
        "id": "7QIYODqw6Z7c"
      }
    },
    {
      "cell_type": "code",
      "source": [],
      "metadata": {
        "id": "chKj-q9v5Mfg"
      },
      "execution_count": null,
      "outputs": []
    }
  ]
}